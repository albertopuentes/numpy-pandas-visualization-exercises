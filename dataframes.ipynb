{
 "metadata": {
  "language_info": {
   "codemirror_mode": {
    "name": "ipython",
    "version": 3
   },
   "file_extension": ".py",
   "mimetype": "text/x-python",
   "name": "python",
   "nbconvert_exporter": "python",
   "pygments_lexer": "ipython3",
   "version": "3.8.5-final"
  },
  "orig_nbformat": 2,
  "kernelspec": {
   "name": "python385jvsc74a57bd0b64057e63add2b45b1ffc7eab9b09c8889b419c878e2fdf0d08f837f0fc857a7",
   "display_name": "Python 3.8.5 64-bit ('base': conda)"
  },
  "metadata": {
   "interpreter": {
    "hash": "b64057e63add2b45b1ffc7eab9b09c8889b419c878e2fdf0d08f837f0fc857a7"
   }
  }
 },
 "nbformat": 4,
 "nbformat_minor": 2,
 "cells": [
  {
   "cell_type": "code",
   "execution_count": 1,
   "metadata": {},
   "outputs": [],
   "source": [
    "import numpy as np\n",
    "import pandas as pd\n",
    "from pydataset import data"
   ]
  },
  {
   "cell_type": "code",
   "execution_count": 2,
   "metadata": {},
   "outputs": [
    {
     "output_type": "execute_result",
     "data": {
      "text/plain": [
       "pandas.core.frame.DataFrame"
      ]
     },
     "metadata": {},
     "execution_count": 2
    }
   ],
   "source": [
    "np.random.seed(123)\n",
    "\n",
    "students = ['Sally', 'Jane', 'Suzie', 'Billy', 'Ada', 'John', 'Thomas',\n",
    "            'Marie', 'Albert', 'Richard', 'Isaac', 'Alan']\n",
    "\n",
    "math_grades = np.random.randint(low=60, high=100, size=len(students))\n",
    "english_grades = np.random.randint(low=60, high=100, size=len(students))\n",
    "reading_grades = np.random.randint(low=60, high=100, size=len(students))\n",
    "\n",
    "df = pd.DataFrame({'name': students,\n",
    "                   'math': math_grades,\n",
    "                   'english': english_grades,\n",
    "                   'reading': reading_grades})\n",
    "\n",
    "type(df)\n"
   ]
  },
  {
   "cell_type": "code",
   "execution_count": 4,
   "metadata": {},
   "outputs": [
    {
     "output_type": "execute_result",
     "data": {
      "text/plain": [
       "       name  math  english  reading  passing_english\n",
       "0     Sally    62       85       80             True\n",
       "1      Jane    88       79       67             True\n",
       "2     Suzie    94       74       95             True\n",
       "3     Billy    98       96       88             True\n",
       "4       Ada    77       92       98             True\n",
       "5      John    79       76       93             True\n",
       "6    Thomas    82       64       81            False\n",
       "7     Marie    93       63       90            False\n",
       "8    Albert    92       62       87            False\n",
       "9   Richard    69       80       94             True\n",
       "10    Isaac    92       99       93             True\n",
       "11     Alan    92       62       72            False"
      ],
      "text/html": "<div>\n<style scoped>\n    .dataframe tbody tr th:only-of-type {\n        vertical-align: middle;\n    }\n\n    .dataframe tbody tr th {\n        vertical-align: top;\n    }\n\n    .dataframe thead th {\n        text-align: right;\n    }\n</style>\n<table border=\"1\" class=\"dataframe\">\n  <thead>\n    <tr style=\"text-align: right;\">\n      <th></th>\n      <th>name</th>\n      <th>math</th>\n      <th>english</th>\n      <th>reading</th>\n      <th>passing_english</th>\n    </tr>\n  </thead>\n  <tbody>\n    <tr>\n      <th>0</th>\n      <td>Sally</td>\n      <td>62</td>\n      <td>85</td>\n      <td>80</td>\n      <td>True</td>\n    </tr>\n    <tr>\n      <th>1</th>\n      <td>Jane</td>\n      <td>88</td>\n      <td>79</td>\n      <td>67</td>\n      <td>True</td>\n    </tr>\n    <tr>\n      <th>2</th>\n      <td>Suzie</td>\n      <td>94</td>\n      <td>74</td>\n      <td>95</td>\n      <td>True</td>\n    </tr>\n    <tr>\n      <th>3</th>\n      <td>Billy</td>\n      <td>98</td>\n      <td>96</td>\n      <td>88</td>\n      <td>True</td>\n    </tr>\n    <tr>\n      <th>4</th>\n      <td>Ada</td>\n      <td>77</td>\n      <td>92</td>\n      <td>98</td>\n      <td>True</td>\n    </tr>\n    <tr>\n      <th>5</th>\n      <td>John</td>\n      <td>79</td>\n      <td>76</td>\n      <td>93</td>\n      <td>True</td>\n    </tr>\n    <tr>\n      <th>6</th>\n      <td>Thomas</td>\n      <td>82</td>\n      <td>64</td>\n      <td>81</td>\n      <td>False</td>\n    </tr>\n    <tr>\n      <th>7</th>\n      <td>Marie</td>\n      <td>93</td>\n      <td>63</td>\n      <td>90</td>\n      <td>False</td>\n    </tr>\n    <tr>\n      <th>8</th>\n      <td>Albert</td>\n      <td>92</td>\n      <td>62</td>\n      <td>87</td>\n      <td>False</td>\n    </tr>\n    <tr>\n      <th>9</th>\n      <td>Richard</td>\n      <td>69</td>\n      <td>80</td>\n      <td>94</td>\n      <td>True</td>\n    </tr>\n    <tr>\n      <th>10</th>\n      <td>Isaac</td>\n      <td>92</td>\n      <td>99</td>\n      <td>93</td>\n      <td>True</td>\n    </tr>\n    <tr>\n      <th>11</th>\n      <td>Alan</td>\n      <td>92</td>\n      <td>62</td>\n      <td>72</td>\n      <td>False</td>\n    </tr>\n  </tbody>\n</table>\n</div>"
     },
     "metadata": {},
     "execution_count": 4
    }
   ],
   "source": [
    "# Create a column named passing_english that indicates whether each student has a passing grade in english.\n",
    "df['passing_english'] = df.english > 70\n",
    "df"
   ]
  },
  {
   "cell_type": "code",
   "execution_count": 5,
   "metadata": {},
   "outputs": [
    {
     "output_type": "execute_result",
     "data": {
      "text/plain": [
       "       name  math  english  reading  passing_english\n",
       "6    Thomas    82       64       81            False\n",
       "7     Marie    93       63       90            False\n",
       "8    Albert    92       62       87            False\n",
       "11     Alan    92       62       72            False\n",
       "0     Sally    62       85       80             True\n",
       "1      Jane    88       79       67             True\n",
       "2     Suzie    94       74       95             True\n",
       "3     Billy    98       96       88             True\n",
       "4       Ada    77       92       98             True\n",
       "5      John    79       76       93             True\n",
       "9   Richard    69       80       94             True\n",
       "10    Isaac    92       99       93             True"
      ],
      "text/html": "<div>\n<style scoped>\n    .dataframe tbody tr th:only-of-type {\n        vertical-align: middle;\n    }\n\n    .dataframe tbody tr th {\n        vertical-align: top;\n    }\n\n    .dataframe thead th {\n        text-align: right;\n    }\n</style>\n<table border=\"1\" class=\"dataframe\">\n  <thead>\n    <tr style=\"text-align: right;\">\n      <th></th>\n      <th>name</th>\n      <th>math</th>\n      <th>english</th>\n      <th>reading</th>\n      <th>passing_english</th>\n    </tr>\n  </thead>\n  <tbody>\n    <tr>\n      <th>6</th>\n      <td>Thomas</td>\n      <td>82</td>\n      <td>64</td>\n      <td>81</td>\n      <td>False</td>\n    </tr>\n    <tr>\n      <th>7</th>\n      <td>Marie</td>\n      <td>93</td>\n      <td>63</td>\n      <td>90</td>\n      <td>False</td>\n    </tr>\n    <tr>\n      <th>8</th>\n      <td>Albert</td>\n      <td>92</td>\n      <td>62</td>\n      <td>87</td>\n      <td>False</td>\n    </tr>\n    <tr>\n      <th>11</th>\n      <td>Alan</td>\n      <td>92</td>\n      <td>62</td>\n      <td>72</td>\n      <td>False</td>\n    </tr>\n    <tr>\n      <th>0</th>\n      <td>Sally</td>\n      <td>62</td>\n      <td>85</td>\n      <td>80</td>\n      <td>True</td>\n    </tr>\n    <tr>\n      <th>1</th>\n      <td>Jane</td>\n      <td>88</td>\n      <td>79</td>\n      <td>67</td>\n      <td>True</td>\n    </tr>\n    <tr>\n      <th>2</th>\n      <td>Suzie</td>\n      <td>94</td>\n      <td>74</td>\n      <td>95</td>\n      <td>True</td>\n    </tr>\n    <tr>\n      <th>3</th>\n      <td>Billy</td>\n      <td>98</td>\n      <td>96</td>\n      <td>88</td>\n      <td>True</td>\n    </tr>\n    <tr>\n      <th>4</th>\n      <td>Ada</td>\n      <td>77</td>\n      <td>92</td>\n      <td>98</td>\n      <td>True</td>\n    </tr>\n    <tr>\n      <th>5</th>\n      <td>John</td>\n      <td>79</td>\n      <td>76</td>\n      <td>93</td>\n      <td>True</td>\n    </tr>\n    <tr>\n      <th>9</th>\n      <td>Richard</td>\n      <td>69</td>\n      <td>80</td>\n      <td>94</td>\n      <td>True</td>\n    </tr>\n    <tr>\n      <th>10</th>\n      <td>Isaac</td>\n      <td>92</td>\n      <td>99</td>\n      <td>93</td>\n      <td>True</td>\n    </tr>\n  </tbody>\n</table>\n</div>"
     },
     "metadata": {},
     "execution_count": 5
    }
   ],
   "source": [
    "# Sort the english grades by the passing_english column. How are duplicates handled?\n",
    "df.sort_values(by='passing_english')\n"
   ]
  },
  {
   "cell_type": "code",
   "execution_count": 6,
   "metadata": {},
   "outputs": [
    {
     "output_type": "execute_result",
     "data": {
      "text/plain": [
       "       name  math  english  reading  passing_english\n",
       "11     Alan    92       62       72            False\n",
       "8    Albert    92       62       87            False\n",
       "7     Marie    93       63       90            False\n",
       "6    Thomas    82       64       81            False\n",
       "4       Ada    77       92       98             True\n",
       "3     Billy    98       96       88             True\n",
       "10    Isaac    92       99       93             True\n",
       "1      Jane    88       79       67             True\n",
       "5      John    79       76       93             True\n",
       "9   Richard    69       80       94             True\n",
       "0     Sally    62       85       80             True\n",
       "2     Suzie    94       74       95             True"
      ],
      "text/html": "<div>\n<style scoped>\n    .dataframe tbody tr th:only-of-type {\n        vertical-align: middle;\n    }\n\n    .dataframe tbody tr th {\n        vertical-align: top;\n    }\n\n    .dataframe thead th {\n        text-align: right;\n    }\n</style>\n<table border=\"1\" class=\"dataframe\">\n  <thead>\n    <tr style=\"text-align: right;\">\n      <th></th>\n      <th>name</th>\n      <th>math</th>\n      <th>english</th>\n      <th>reading</th>\n      <th>passing_english</th>\n    </tr>\n  </thead>\n  <tbody>\n    <tr>\n      <th>11</th>\n      <td>Alan</td>\n      <td>92</td>\n      <td>62</td>\n      <td>72</td>\n      <td>False</td>\n    </tr>\n    <tr>\n      <th>8</th>\n      <td>Albert</td>\n      <td>92</td>\n      <td>62</td>\n      <td>87</td>\n      <td>False</td>\n    </tr>\n    <tr>\n      <th>7</th>\n      <td>Marie</td>\n      <td>93</td>\n      <td>63</td>\n      <td>90</td>\n      <td>False</td>\n    </tr>\n    <tr>\n      <th>6</th>\n      <td>Thomas</td>\n      <td>82</td>\n      <td>64</td>\n      <td>81</td>\n      <td>False</td>\n    </tr>\n    <tr>\n      <th>4</th>\n      <td>Ada</td>\n      <td>77</td>\n      <td>92</td>\n      <td>98</td>\n      <td>True</td>\n    </tr>\n    <tr>\n      <th>3</th>\n      <td>Billy</td>\n      <td>98</td>\n      <td>96</td>\n      <td>88</td>\n      <td>True</td>\n    </tr>\n    <tr>\n      <th>10</th>\n      <td>Isaac</td>\n      <td>92</td>\n      <td>99</td>\n      <td>93</td>\n      <td>True</td>\n    </tr>\n    <tr>\n      <th>1</th>\n      <td>Jane</td>\n      <td>88</td>\n      <td>79</td>\n      <td>67</td>\n      <td>True</td>\n    </tr>\n    <tr>\n      <th>5</th>\n      <td>John</td>\n      <td>79</td>\n      <td>76</td>\n      <td>93</td>\n      <td>True</td>\n    </tr>\n    <tr>\n      <th>9</th>\n      <td>Richard</td>\n      <td>69</td>\n      <td>80</td>\n      <td>94</td>\n      <td>True</td>\n    </tr>\n    <tr>\n      <th>0</th>\n      <td>Sally</td>\n      <td>62</td>\n      <td>85</td>\n      <td>80</td>\n      <td>True</td>\n    </tr>\n    <tr>\n      <th>2</th>\n      <td>Suzie</td>\n      <td>94</td>\n      <td>74</td>\n      <td>95</td>\n      <td>True</td>\n    </tr>\n  </tbody>\n</table>\n</div>"
     },
     "metadata": {},
     "execution_count": 6
    }
   ],
   "source": [
    "# Sort the english grades first by passing_english and then by student name. All the students that are failing english should be first, and within the students that are failing english they should be ordered alphabetically. The same should be true for the students passing english. (Hint: you can pass a list to the .sort_values method)\n",
    "\n",
    "df.sort_values(['passing_english', \"name\"])"
   ]
  },
  {
   "cell_type": "code",
   "execution_count": 7,
   "metadata": {},
   "outputs": [
    {
     "output_type": "execute_result",
     "data": {
      "text/plain": [
       "       name  math  english  reading  passing_english\n",
       "8    Albert    92       62       87            False\n",
       "11     Alan    92       62       72            False\n",
       "7     Marie    93       63       90            False\n",
       "6    Thomas    82       64       81            False\n",
       "2     Suzie    94       74       95             True\n",
       "5      John    79       76       93             True\n",
       "1      Jane    88       79       67             True\n",
       "9   Richard    69       80       94             True\n",
       "0     Sally    62       85       80             True\n",
       "4       Ada    77       92       98             True\n",
       "3     Billy    98       96       88             True\n",
       "10    Isaac    92       99       93             True"
      ],
      "text/html": "<div>\n<style scoped>\n    .dataframe tbody tr th:only-of-type {\n        vertical-align: middle;\n    }\n\n    .dataframe tbody tr th {\n        vertical-align: top;\n    }\n\n    .dataframe thead th {\n        text-align: right;\n    }\n</style>\n<table border=\"1\" class=\"dataframe\">\n  <thead>\n    <tr style=\"text-align: right;\">\n      <th></th>\n      <th>name</th>\n      <th>math</th>\n      <th>english</th>\n      <th>reading</th>\n      <th>passing_english</th>\n    </tr>\n  </thead>\n  <tbody>\n    <tr>\n      <th>8</th>\n      <td>Albert</td>\n      <td>92</td>\n      <td>62</td>\n      <td>87</td>\n      <td>False</td>\n    </tr>\n    <tr>\n      <th>11</th>\n      <td>Alan</td>\n      <td>92</td>\n      <td>62</td>\n      <td>72</td>\n      <td>False</td>\n    </tr>\n    <tr>\n      <th>7</th>\n      <td>Marie</td>\n      <td>93</td>\n      <td>63</td>\n      <td>90</td>\n      <td>False</td>\n    </tr>\n    <tr>\n      <th>6</th>\n      <td>Thomas</td>\n      <td>82</td>\n      <td>64</td>\n      <td>81</td>\n      <td>False</td>\n    </tr>\n    <tr>\n      <th>2</th>\n      <td>Suzie</td>\n      <td>94</td>\n      <td>74</td>\n      <td>95</td>\n      <td>True</td>\n    </tr>\n    <tr>\n      <th>5</th>\n      <td>John</td>\n      <td>79</td>\n      <td>76</td>\n      <td>93</td>\n      <td>True</td>\n    </tr>\n    <tr>\n      <th>1</th>\n      <td>Jane</td>\n      <td>88</td>\n      <td>79</td>\n      <td>67</td>\n      <td>True</td>\n    </tr>\n    <tr>\n      <th>9</th>\n      <td>Richard</td>\n      <td>69</td>\n      <td>80</td>\n      <td>94</td>\n      <td>True</td>\n    </tr>\n    <tr>\n      <th>0</th>\n      <td>Sally</td>\n      <td>62</td>\n      <td>85</td>\n      <td>80</td>\n      <td>True</td>\n    </tr>\n    <tr>\n      <th>4</th>\n      <td>Ada</td>\n      <td>77</td>\n      <td>92</td>\n      <td>98</td>\n      <td>True</td>\n    </tr>\n    <tr>\n      <th>3</th>\n      <td>Billy</td>\n      <td>98</td>\n      <td>96</td>\n      <td>88</td>\n      <td>True</td>\n    </tr>\n    <tr>\n      <th>10</th>\n      <td>Isaac</td>\n      <td>92</td>\n      <td>99</td>\n      <td>93</td>\n      <td>True</td>\n    </tr>\n  </tbody>\n</table>\n</div>"
     },
     "metadata": {},
     "execution_count": 7
    }
   ],
   "source": [
    "# Sort the english grades first by passing_english, and then by the actual english grade, similar to how we did in the last step.\n",
    "\n",
    "df.sort_values([\"passing_english\", \"english\"])"
   ]
  },
  {
   "cell_type": "code",
   "execution_count": 8,
   "metadata": {},
   "outputs": [
    {
     "output_type": "execute_result",
     "data": {
      "text/plain": [
       "       name  math  english  reading  passing_english  overall_grade\n",
       "0     Sally    62       85       80             True      75.666667\n",
       "1      Jane    88       79       67             True      78.000000\n",
       "2     Suzie    94       74       95             True      87.666667\n",
       "3     Billy    98       96       88             True      94.000000\n",
       "4       Ada    77       92       98             True      89.000000\n",
       "5      John    79       76       93             True      82.666667\n",
       "6    Thomas    82       64       81            False      75.666667\n",
       "7     Marie    93       63       90            False      82.000000\n",
       "8    Albert    92       62       87            False      80.333333\n",
       "9   Richard    69       80       94             True      81.000000\n",
       "10    Isaac    92       99       93             True      94.666667\n",
       "11     Alan    92       62       72            False      75.333333"
      ],
      "text/html": "<div>\n<style scoped>\n    .dataframe tbody tr th:only-of-type {\n        vertical-align: middle;\n    }\n\n    .dataframe tbody tr th {\n        vertical-align: top;\n    }\n\n    .dataframe thead th {\n        text-align: right;\n    }\n</style>\n<table border=\"1\" class=\"dataframe\">\n  <thead>\n    <tr style=\"text-align: right;\">\n      <th></th>\n      <th>name</th>\n      <th>math</th>\n      <th>english</th>\n      <th>reading</th>\n      <th>passing_english</th>\n      <th>overall_grade</th>\n    </tr>\n  </thead>\n  <tbody>\n    <tr>\n      <th>0</th>\n      <td>Sally</td>\n      <td>62</td>\n      <td>85</td>\n      <td>80</td>\n      <td>True</td>\n      <td>75.666667</td>\n    </tr>\n    <tr>\n      <th>1</th>\n      <td>Jane</td>\n      <td>88</td>\n      <td>79</td>\n      <td>67</td>\n      <td>True</td>\n      <td>78.000000</td>\n    </tr>\n    <tr>\n      <th>2</th>\n      <td>Suzie</td>\n      <td>94</td>\n      <td>74</td>\n      <td>95</td>\n      <td>True</td>\n      <td>87.666667</td>\n    </tr>\n    <tr>\n      <th>3</th>\n      <td>Billy</td>\n      <td>98</td>\n      <td>96</td>\n      <td>88</td>\n      <td>True</td>\n      <td>94.000000</td>\n    </tr>\n    <tr>\n      <th>4</th>\n      <td>Ada</td>\n      <td>77</td>\n      <td>92</td>\n      <td>98</td>\n      <td>True</td>\n      <td>89.000000</td>\n    </tr>\n    <tr>\n      <th>5</th>\n      <td>John</td>\n      <td>79</td>\n      <td>76</td>\n      <td>93</td>\n      <td>True</td>\n      <td>82.666667</td>\n    </tr>\n    <tr>\n      <th>6</th>\n      <td>Thomas</td>\n      <td>82</td>\n      <td>64</td>\n      <td>81</td>\n      <td>False</td>\n      <td>75.666667</td>\n    </tr>\n    <tr>\n      <th>7</th>\n      <td>Marie</td>\n      <td>93</td>\n      <td>63</td>\n      <td>90</td>\n      <td>False</td>\n      <td>82.000000</td>\n    </tr>\n    <tr>\n      <th>8</th>\n      <td>Albert</td>\n      <td>92</td>\n      <td>62</td>\n      <td>87</td>\n      <td>False</td>\n      <td>80.333333</td>\n    </tr>\n    <tr>\n      <th>9</th>\n      <td>Richard</td>\n      <td>69</td>\n      <td>80</td>\n      <td>94</td>\n      <td>True</td>\n      <td>81.000000</td>\n    </tr>\n    <tr>\n      <th>10</th>\n      <td>Isaac</td>\n      <td>92</td>\n      <td>99</td>\n      <td>93</td>\n      <td>True</td>\n      <td>94.666667</td>\n    </tr>\n    <tr>\n      <th>11</th>\n      <td>Alan</td>\n      <td>92</td>\n      <td>62</td>\n      <td>72</td>\n      <td>False</td>\n      <td>75.333333</td>\n    </tr>\n  </tbody>\n</table>\n</div>"
     },
     "metadata": {},
     "execution_count": 8
    }
   ],
   "source": [
    "# Calculate each students overall grade and add it as a column on the dataframe. The overall grade is the average of the math, english, and reading grades.\n",
    "\n",
    "df['overall_grade'] = (df.english + df.math + df.reading)/3\n",
    "df\n"
   ]
  },
  {
   "cell_type": "code",
   "execution_count": 9,
   "metadata": {},
   "outputs": [],
   "source": [
    "# Load the mpg dataset. Read the documentation for the dataset and use it for the following questions:\n",
    "mpg = data('mpg')\n"
   ]
  },
  {
   "cell_type": "code",
   "execution_count": 11,
   "metadata": {},
   "outputs": [
    {
     "output_type": "execute_result",
     "data": {
      "text/plain": [
       "(234, 11)"
      ]
     },
     "metadata": {},
     "execution_count": 11
    }
   ],
   "source": [
    "# How many rows and columns are there?  234 rows and 11 columns\n",
    "\n",
    "mpg.shape"
   ]
  },
  {
   "cell_type": "code",
   "execution_count": 12,
   "metadata": {},
   "outputs": [
    {
     "output_type": "execute_result",
     "data": {
      "text/plain": [
       "Index(['manufacturer', 'model', 'displ', 'year', 'cyl', 'trans', 'drv', 'cty',\n",
       "       'hwy', 'fl', 'class'],\n",
       "      dtype='object')"
      ]
     },
     "metadata": {},
     "execution_count": 12
    }
   ],
   "source": [
    "# What are the data types of each column?\n",
    "\n",
    "mpg.columns"
   ]
  },
  {
   "cell_type": "code",
   "execution_count": 16,
   "metadata": {},
   "outputs": [
    {
     "output_type": "execute_result",
     "data": {
      "text/plain": [
       "<bound method DataFrame.info of     manufacturer   model  displ  year  cyl       trans drv  cty  hwy fl  \\\n",
       "1           audi      a4    1.8  1999    4    auto(l5)   f   18   29  p   \n",
       "2           audi      a4    1.8  1999    4  manual(m5)   f   21   29  p   \n",
       "3           audi      a4    2.0  2008    4  manual(m6)   f   20   31  p   \n",
       "4           audi      a4    2.0  2008    4    auto(av)   f   21   30  p   \n",
       "5           audi      a4    2.8  1999    6    auto(l5)   f   16   26  p   \n",
       "..           ...     ...    ...   ...  ...         ...  ..  ...  ... ..   \n",
       "230   volkswagen  passat    2.0  2008    4    auto(s6)   f   19   28  p   \n",
       "231   volkswagen  passat    2.0  2008    4  manual(m6)   f   21   29  p   \n",
       "232   volkswagen  passat    2.8  1999    6    auto(l5)   f   16   26  p   \n",
       "233   volkswagen  passat    2.8  1999    6  manual(m5)   f   18   26  p   \n",
       "234   volkswagen  passat    3.6  2008    6    auto(s6)   f   17   26  p   \n",
       "\n",
       "       class  \n",
       "1    compact  \n",
       "2    compact  \n",
       "3    compact  \n",
       "4    compact  \n",
       "5    compact  \n",
       "..       ...  \n",
       "230  midsize  \n",
       "231  midsize  \n",
       "232  midsize  \n",
       "233  midsize  \n",
       "234  midsize  \n",
       "\n",
       "[234 rows x 11 columns]>"
      ]
     },
     "metadata": {},
     "execution_count": 16
    }
   ],
   "source": [
    "# Summarize the dataframe with .info and .describe.  Auto make and model with year manufactured, engine type and gas mileage efficiency\n",
    "mpg.info"
   ]
  },
  {
   "source": [
    "mpg.describe"
   ],
   "cell_type": "code",
   "metadata": {},
   "execution_count": 17,
   "outputs": [
    {
     "output_type": "execute_result",
     "data": {
      "text/plain": [
       "<bound method NDFrame.describe of     manufacturer   model  displ  year  cyl       trans drv  cty  hwy fl  \\\n",
       "1           audi      a4    1.8  1999    4    auto(l5)   f   18   29  p   \n",
       "2           audi      a4    1.8  1999    4  manual(m5)   f   21   29  p   \n",
       "3           audi      a4    2.0  2008    4  manual(m6)   f   20   31  p   \n",
       "4           audi      a4    2.0  2008    4    auto(av)   f   21   30  p   \n",
       "5           audi      a4    2.8  1999    6    auto(l5)   f   16   26  p   \n",
       "..           ...     ...    ...   ...  ...         ...  ..  ...  ... ..   \n",
       "230   volkswagen  passat    2.0  2008    4    auto(s6)   f   19   28  p   \n",
       "231   volkswagen  passat    2.0  2008    4  manual(m6)   f   21   29  p   \n",
       "232   volkswagen  passat    2.8  1999    6    auto(l5)   f   16   26  p   \n",
       "233   volkswagen  passat    2.8  1999    6  manual(m5)   f   18   26  p   \n",
       "234   volkswagen  passat    3.6  2008    6    auto(s6)   f   17   26  p   \n",
       "\n",
       "       class  \n",
       "1    compact  \n",
       "2    compact  \n",
       "3    compact  \n",
       "4    compact  \n",
       "5    compact  \n",
       "..       ...  \n",
       "230  midsize  \n",
       "231  midsize  \n",
       "232  midsize  \n",
       "233  midsize  \n",
       "234  midsize  \n",
       "\n",
       "[234 rows x 11 columns]>"
      ]
     },
     "metadata": {},
     "execution_count": 17
    }
   ]
  },
  {
   "cell_type": "code",
   "execution_count": 19,
   "metadata": {},
   "outputs": [
    {
     "output_type": "execute_result",
     "data": {
      "text/plain": [
       "    manufacturer   model  displ  year  cyl       trans drv  city  hwy fl  \\\n",
       "1           audi      a4    1.8  1999    4    auto(l5)   f    18   29  p   \n",
       "2           audi      a4    1.8  1999    4  manual(m5)   f    21   29  p   \n",
       "3           audi      a4    2.0  2008    4  manual(m6)   f    20   31  p   \n",
       "4           audi      a4    2.0  2008    4    auto(av)   f    21   30  p   \n",
       "5           audi      a4    2.8  1999    6    auto(l5)   f    16   26  p   \n",
       "..           ...     ...    ...   ...  ...         ...  ..   ...  ... ..   \n",
       "230   volkswagen  passat    2.0  2008    4    auto(s6)   f    19   28  p   \n",
       "231   volkswagen  passat    2.0  2008    4  manual(m6)   f    21   29  p   \n",
       "232   volkswagen  passat    2.8  1999    6    auto(l5)   f    16   26  p   \n",
       "233   volkswagen  passat    2.8  1999    6  manual(m5)   f    18   26  p   \n",
       "234   volkswagen  passat    3.6  2008    6    auto(s6)   f    17   26  p   \n",
       "\n",
       "       class  \n",
       "1    compact  \n",
       "2    compact  \n",
       "3    compact  \n",
       "4    compact  \n",
       "5    compact  \n",
       "..       ...  \n",
       "230  midsize  \n",
       "231  midsize  \n",
       "232  midsize  \n",
       "233  midsize  \n",
       "234  midsize  \n",
       "\n",
       "[234 rows x 11 columns]"
      ],
      "text/html": "<div>\n<style scoped>\n    .dataframe tbody tr th:only-of-type {\n        vertical-align: middle;\n    }\n\n    .dataframe tbody tr th {\n        vertical-align: top;\n    }\n\n    .dataframe thead th {\n        text-align: right;\n    }\n</style>\n<table border=\"1\" class=\"dataframe\">\n  <thead>\n    <tr style=\"text-align: right;\">\n      <th></th>\n      <th>manufacturer</th>\n      <th>model</th>\n      <th>displ</th>\n      <th>year</th>\n      <th>cyl</th>\n      <th>trans</th>\n      <th>drv</th>\n      <th>city</th>\n      <th>hwy</th>\n      <th>fl</th>\n      <th>class</th>\n    </tr>\n  </thead>\n  <tbody>\n    <tr>\n      <th>1</th>\n      <td>audi</td>\n      <td>a4</td>\n      <td>1.8</td>\n      <td>1999</td>\n      <td>4</td>\n      <td>auto(l5)</td>\n      <td>f</td>\n      <td>18</td>\n      <td>29</td>\n      <td>p</td>\n      <td>compact</td>\n    </tr>\n    <tr>\n      <th>2</th>\n      <td>audi</td>\n      <td>a4</td>\n      <td>1.8</td>\n      <td>1999</td>\n      <td>4</td>\n      <td>manual(m5)</td>\n      <td>f</td>\n      <td>21</td>\n      <td>29</td>\n      <td>p</td>\n      <td>compact</td>\n    </tr>\n    <tr>\n      <th>3</th>\n      <td>audi</td>\n      <td>a4</td>\n      <td>2.0</td>\n      <td>2008</td>\n      <td>4</td>\n      <td>manual(m6)</td>\n      <td>f</td>\n      <td>20</td>\n      <td>31</td>\n      <td>p</td>\n      <td>compact</td>\n    </tr>\n    <tr>\n      <th>4</th>\n      <td>audi</td>\n      <td>a4</td>\n      <td>2.0</td>\n      <td>2008</td>\n      <td>4</td>\n      <td>auto(av)</td>\n      <td>f</td>\n      <td>21</td>\n      <td>30</td>\n      <td>p</td>\n      <td>compact</td>\n    </tr>\n    <tr>\n      <th>5</th>\n      <td>audi</td>\n      <td>a4</td>\n      <td>2.8</td>\n      <td>1999</td>\n      <td>6</td>\n      <td>auto(l5)</td>\n      <td>f</td>\n      <td>16</td>\n      <td>26</td>\n      <td>p</td>\n      <td>compact</td>\n    </tr>\n    <tr>\n      <th>...</th>\n      <td>...</td>\n      <td>...</td>\n      <td>...</td>\n      <td>...</td>\n      <td>...</td>\n      <td>...</td>\n      <td>...</td>\n      <td>...</td>\n      <td>...</td>\n      <td>...</td>\n      <td>...</td>\n    </tr>\n    <tr>\n      <th>230</th>\n      <td>volkswagen</td>\n      <td>passat</td>\n      <td>2.0</td>\n      <td>2008</td>\n      <td>4</td>\n      <td>auto(s6)</td>\n      <td>f</td>\n      <td>19</td>\n      <td>28</td>\n      <td>p</td>\n      <td>midsize</td>\n    </tr>\n    <tr>\n      <th>231</th>\n      <td>volkswagen</td>\n      <td>passat</td>\n      <td>2.0</td>\n      <td>2008</td>\n      <td>4</td>\n      <td>manual(m6)</td>\n      <td>f</td>\n      <td>21</td>\n      <td>29</td>\n      <td>p</td>\n      <td>midsize</td>\n    </tr>\n    <tr>\n      <th>232</th>\n      <td>volkswagen</td>\n      <td>passat</td>\n      <td>2.8</td>\n      <td>1999</td>\n      <td>6</td>\n      <td>auto(l5)</td>\n      <td>f</td>\n      <td>16</td>\n      <td>26</td>\n      <td>p</td>\n      <td>midsize</td>\n    </tr>\n    <tr>\n      <th>233</th>\n      <td>volkswagen</td>\n      <td>passat</td>\n      <td>2.8</td>\n      <td>1999</td>\n      <td>6</td>\n      <td>manual(m5)</td>\n      <td>f</td>\n      <td>18</td>\n      <td>26</td>\n      <td>p</td>\n      <td>midsize</td>\n    </tr>\n    <tr>\n      <th>234</th>\n      <td>volkswagen</td>\n      <td>passat</td>\n      <td>3.6</td>\n      <td>2008</td>\n      <td>6</td>\n      <td>auto(s6)</td>\n      <td>f</td>\n      <td>17</td>\n      <td>26</td>\n      <td>p</td>\n      <td>midsize</td>\n    </tr>\n  </tbody>\n</table>\n<p>234 rows × 11 columns</p>\n</div>"
     },
     "metadata": {},
     "execution_count": 19
    }
   ],
   "source": [
    "# Rename the cty column to city.\n",
    "\n",
    "mpg.rename(columns={'cty': 'city'})"
   ]
  },
  {
   "cell_type": "code",
   "execution_count": null,
   "metadata": {},
   "outputs": [],
   "source": []
  }
 ]
}