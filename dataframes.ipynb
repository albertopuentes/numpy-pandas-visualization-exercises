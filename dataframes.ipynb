{
 "metadata": {
  "language_info": {
   "codemirror_mode": {
    "name": "ipython",
    "version": 3
   },
   "file_extension": ".py",
   "mimetype": "text/x-python",
   "name": "python",
   "nbconvert_exporter": "python",
   "pygments_lexer": "ipython3",
   "version": "3.8.5-final"
  },
  "orig_nbformat": 2,
  "kernelspec": {
   "name": "python385jvsc74a57bd0b64057e63add2b45b1ffc7eab9b09c8889b419c878e2fdf0d08f837f0fc857a7",
   "display_name": "Python 3.8.5 64-bit ('base': conda)"
  },
  "metadata": {
   "interpreter": {
    "hash": "b64057e63add2b45b1ffc7eab9b09c8889b419c878e2fdf0d08f837f0fc857a7"
   }
  }
 },
 "nbformat": 4,
 "nbformat_minor": 2,
 "cells": [
  {
   "cell_type": "code",
   "execution_count": 8,
   "metadata": {},
   "outputs": [],
   "source": [
    "import numpy as np\n",
    "import pandas as pd\n",
    "from pydataset import data"
   ]
  },
  {
   "cell_type": "code",
   "execution_count": 9,
   "metadata": {},
   "outputs": [
    {
     "output_type": "execute_result",
     "data": {
      "text/plain": [
       "pandas.core.frame.DataFrame"
      ]
     },
     "metadata": {},
     "execution_count": 9
    }
   ],
   "source": [
    "np.random.seed(123)\n",
    "\n",
    "students = ['Sally', 'Jane', 'Suzie', 'Billy', 'Ada', 'John', 'Thomas',\n",
    "            'Marie', 'Albert', 'Richard', 'Isaac', 'Alan']\n",
    "\n",
    "math_grades = np.random.randint(low=60, high=100, size=len(students))\n",
    "english_grades = np.random.randint(low=60, high=100, size=len(students))\n",
    "reading_grades = np.random.randint(low=60, high=100, size=len(students))\n",
    "\n",
    "df = pd.DataFrame({'name': students,\n",
    "                   'math': math_grades,\n",
    "                   'english': english_grades,\n",
    "                   'reading': reading_grades})\n",
    "\n",
    "type(df)\n"
   ]
  },
  {
   "cell_type": "code",
   "execution_count": 10,
   "metadata": {},
   "outputs": [
    {
     "output_type": "execute_result",
     "data": {
      "text/plain": [
       "       name  math  english  reading  passing_english\n",
       "0     Sally    62       85       80             True\n",
       "1      Jane    88       79       67             True\n",
       "2     Suzie    94       74       95             True\n",
       "3     Billy    98       96       88             True\n",
       "4       Ada    77       92       98             True\n",
       "5      John    79       76       93             True\n",
       "6    Thomas    82       64       81            False\n",
       "7     Marie    93       63       90            False\n",
       "8    Albert    92       62       87            False\n",
       "9   Richard    69       80       94             True\n",
       "10    Isaac    92       99       93             True\n",
       "11     Alan    92       62       72            False"
      ],
      "text/html": "<div>\n<style scoped>\n    .dataframe tbody tr th:only-of-type {\n        vertical-align: middle;\n    }\n\n    .dataframe tbody tr th {\n        vertical-align: top;\n    }\n\n    .dataframe thead th {\n        text-align: right;\n    }\n</style>\n<table border=\"1\" class=\"dataframe\">\n  <thead>\n    <tr style=\"text-align: right;\">\n      <th></th>\n      <th>name</th>\n      <th>math</th>\n      <th>english</th>\n      <th>reading</th>\n      <th>passing_english</th>\n    </tr>\n  </thead>\n  <tbody>\n    <tr>\n      <th>0</th>\n      <td>Sally</td>\n      <td>62</td>\n      <td>85</td>\n      <td>80</td>\n      <td>True</td>\n    </tr>\n    <tr>\n      <th>1</th>\n      <td>Jane</td>\n      <td>88</td>\n      <td>79</td>\n      <td>67</td>\n      <td>True</td>\n    </tr>\n    <tr>\n      <th>2</th>\n      <td>Suzie</td>\n      <td>94</td>\n      <td>74</td>\n      <td>95</td>\n      <td>True</td>\n    </tr>\n    <tr>\n      <th>3</th>\n      <td>Billy</td>\n      <td>98</td>\n      <td>96</td>\n      <td>88</td>\n      <td>True</td>\n    </tr>\n    <tr>\n      <th>4</th>\n      <td>Ada</td>\n      <td>77</td>\n      <td>92</td>\n      <td>98</td>\n      <td>True</td>\n    </tr>\n    <tr>\n      <th>5</th>\n      <td>John</td>\n      <td>79</td>\n      <td>76</td>\n      <td>93</td>\n      <td>True</td>\n    </tr>\n    <tr>\n      <th>6</th>\n      <td>Thomas</td>\n      <td>82</td>\n      <td>64</td>\n      <td>81</td>\n      <td>False</td>\n    </tr>\n    <tr>\n      <th>7</th>\n      <td>Marie</td>\n      <td>93</td>\n      <td>63</td>\n      <td>90</td>\n      <td>False</td>\n    </tr>\n    <tr>\n      <th>8</th>\n      <td>Albert</td>\n      <td>92</td>\n      <td>62</td>\n      <td>87</td>\n      <td>False</td>\n    </tr>\n    <tr>\n      <th>9</th>\n      <td>Richard</td>\n      <td>69</td>\n      <td>80</td>\n      <td>94</td>\n      <td>True</td>\n    </tr>\n    <tr>\n      <th>10</th>\n      <td>Isaac</td>\n      <td>92</td>\n      <td>99</td>\n      <td>93</td>\n      <td>True</td>\n    </tr>\n    <tr>\n      <th>11</th>\n      <td>Alan</td>\n      <td>92</td>\n      <td>62</td>\n      <td>72</td>\n      <td>False</td>\n    </tr>\n  </tbody>\n</table>\n</div>"
     },
     "metadata": {},
     "execution_count": 10
    }
   ],
   "source": [
    "# Create a column named passing_english that indicates whether each student has a passing grade in english.\n",
    "\n",
    "df['passing_english'] = df.english >= 70\n",
    "df"
   ]
  },
  {
   "cell_type": "code",
   "execution_count": 11,
   "metadata": {},
   "outputs": [
    {
     "output_type": "execute_result",
     "data": {
      "text/plain": [
       "       name  math  english  reading  passing_english\n",
       "6    Thomas    82       64       81            False\n",
       "7     Marie    93       63       90            False\n",
       "8    Albert    92       62       87            False\n",
       "11     Alan    92       62       72            False\n",
       "0     Sally    62       85       80             True\n",
       "1      Jane    88       79       67             True\n",
       "2     Suzie    94       74       95             True\n",
       "3     Billy    98       96       88             True\n",
       "4       Ada    77       92       98             True\n",
       "5      John    79       76       93             True\n",
       "9   Richard    69       80       94             True\n",
       "10    Isaac    92       99       93             True"
      ],
      "text/html": "<div>\n<style scoped>\n    .dataframe tbody tr th:only-of-type {\n        vertical-align: middle;\n    }\n\n    .dataframe tbody tr th {\n        vertical-align: top;\n    }\n\n    .dataframe thead th {\n        text-align: right;\n    }\n</style>\n<table border=\"1\" class=\"dataframe\">\n  <thead>\n    <tr style=\"text-align: right;\">\n      <th></th>\n      <th>name</th>\n      <th>math</th>\n      <th>english</th>\n      <th>reading</th>\n      <th>passing_english</th>\n    </tr>\n  </thead>\n  <tbody>\n    <tr>\n      <th>6</th>\n      <td>Thomas</td>\n      <td>82</td>\n      <td>64</td>\n      <td>81</td>\n      <td>False</td>\n    </tr>\n    <tr>\n      <th>7</th>\n      <td>Marie</td>\n      <td>93</td>\n      <td>63</td>\n      <td>90</td>\n      <td>False</td>\n    </tr>\n    <tr>\n      <th>8</th>\n      <td>Albert</td>\n      <td>92</td>\n      <td>62</td>\n      <td>87</td>\n      <td>False</td>\n    </tr>\n    <tr>\n      <th>11</th>\n      <td>Alan</td>\n      <td>92</td>\n      <td>62</td>\n      <td>72</td>\n      <td>False</td>\n    </tr>\n    <tr>\n      <th>0</th>\n      <td>Sally</td>\n      <td>62</td>\n      <td>85</td>\n      <td>80</td>\n      <td>True</td>\n    </tr>\n    <tr>\n      <th>1</th>\n      <td>Jane</td>\n      <td>88</td>\n      <td>79</td>\n      <td>67</td>\n      <td>True</td>\n    </tr>\n    <tr>\n      <th>2</th>\n      <td>Suzie</td>\n      <td>94</td>\n      <td>74</td>\n      <td>95</td>\n      <td>True</td>\n    </tr>\n    <tr>\n      <th>3</th>\n      <td>Billy</td>\n      <td>98</td>\n      <td>96</td>\n      <td>88</td>\n      <td>True</td>\n    </tr>\n    <tr>\n      <th>4</th>\n      <td>Ada</td>\n      <td>77</td>\n      <td>92</td>\n      <td>98</td>\n      <td>True</td>\n    </tr>\n    <tr>\n      <th>5</th>\n      <td>John</td>\n      <td>79</td>\n      <td>76</td>\n      <td>93</td>\n      <td>True</td>\n    </tr>\n    <tr>\n      <th>9</th>\n      <td>Richard</td>\n      <td>69</td>\n      <td>80</td>\n      <td>94</td>\n      <td>True</td>\n    </tr>\n    <tr>\n      <th>10</th>\n      <td>Isaac</td>\n      <td>92</td>\n      <td>99</td>\n      <td>93</td>\n      <td>True</td>\n    </tr>\n  </tbody>\n</table>\n</div>"
     },
     "metadata": {},
     "execution_count": 11
    }
   ],
   "source": [
    "# Sort the english grades by the passing_english column. How are duplicates handled?\n",
    "df.sort_values(by='passing_english')\n"
   ]
  },
  {
   "cell_type": "code",
   "execution_count": 12,
   "metadata": {},
   "outputs": [
    {
     "output_type": "execute_result",
     "data": {
      "text/plain": [
       "       name  math  english  reading  passing_english\n",
       "11     Alan    92       62       72            False\n",
       "8    Albert    92       62       87            False\n",
       "7     Marie    93       63       90            False\n",
       "6    Thomas    82       64       81            False\n",
       "4       Ada    77       92       98             True\n",
       "3     Billy    98       96       88             True\n",
       "10    Isaac    92       99       93             True\n",
       "1      Jane    88       79       67             True\n",
       "5      John    79       76       93             True\n",
       "9   Richard    69       80       94             True\n",
       "0     Sally    62       85       80             True\n",
       "2     Suzie    94       74       95             True"
      ],
      "text/html": "<div>\n<style scoped>\n    .dataframe tbody tr th:only-of-type {\n        vertical-align: middle;\n    }\n\n    .dataframe tbody tr th {\n        vertical-align: top;\n    }\n\n    .dataframe thead th {\n        text-align: right;\n    }\n</style>\n<table border=\"1\" class=\"dataframe\">\n  <thead>\n    <tr style=\"text-align: right;\">\n      <th></th>\n      <th>name</th>\n      <th>math</th>\n      <th>english</th>\n      <th>reading</th>\n      <th>passing_english</th>\n    </tr>\n  </thead>\n  <tbody>\n    <tr>\n      <th>11</th>\n      <td>Alan</td>\n      <td>92</td>\n      <td>62</td>\n      <td>72</td>\n      <td>False</td>\n    </tr>\n    <tr>\n      <th>8</th>\n      <td>Albert</td>\n      <td>92</td>\n      <td>62</td>\n      <td>87</td>\n      <td>False</td>\n    </tr>\n    <tr>\n      <th>7</th>\n      <td>Marie</td>\n      <td>93</td>\n      <td>63</td>\n      <td>90</td>\n      <td>False</td>\n    </tr>\n    <tr>\n      <th>6</th>\n      <td>Thomas</td>\n      <td>82</td>\n      <td>64</td>\n      <td>81</td>\n      <td>False</td>\n    </tr>\n    <tr>\n      <th>4</th>\n      <td>Ada</td>\n      <td>77</td>\n      <td>92</td>\n      <td>98</td>\n      <td>True</td>\n    </tr>\n    <tr>\n      <th>3</th>\n      <td>Billy</td>\n      <td>98</td>\n      <td>96</td>\n      <td>88</td>\n      <td>True</td>\n    </tr>\n    <tr>\n      <th>10</th>\n      <td>Isaac</td>\n      <td>92</td>\n      <td>99</td>\n      <td>93</td>\n      <td>True</td>\n    </tr>\n    <tr>\n      <th>1</th>\n      <td>Jane</td>\n      <td>88</td>\n      <td>79</td>\n      <td>67</td>\n      <td>True</td>\n    </tr>\n    <tr>\n      <th>5</th>\n      <td>John</td>\n      <td>79</td>\n      <td>76</td>\n      <td>93</td>\n      <td>True</td>\n    </tr>\n    <tr>\n      <th>9</th>\n      <td>Richard</td>\n      <td>69</td>\n      <td>80</td>\n      <td>94</td>\n      <td>True</td>\n    </tr>\n    <tr>\n      <th>0</th>\n      <td>Sally</td>\n      <td>62</td>\n      <td>85</td>\n      <td>80</td>\n      <td>True</td>\n    </tr>\n    <tr>\n      <th>2</th>\n      <td>Suzie</td>\n      <td>94</td>\n      <td>74</td>\n      <td>95</td>\n      <td>True</td>\n    </tr>\n  </tbody>\n</table>\n</div>"
     },
     "metadata": {},
     "execution_count": 12
    }
   ],
   "source": [
    "# Sort the english grades first by passing_english and then by student name. All the students that are failing english should be first, and within the students that are failing english they should be ordered alphabetically. The same should be true for the students passing english. (Hint: you can pass a list to the .sort_values method)\n",
    "\n",
    "df.sort_values(['passing_english', \"name\"])"
   ]
  },
  {
   "cell_type": "code",
   "execution_count": 13,
   "metadata": {},
   "outputs": [
    {
     "output_type": "execute_result",
     "data": {
      "text/plain": [
       "       name  math  english  reading  passing_english\n",
       "8    Albert    92       62       87            False\n",
       "11     Alan    92       62       72            False\n",
       "7     Marie    93       63       90            False\n",
       "6    Thomas    82       64       81            False\n",
       "2     Suzie    94       74       95             True\n",
       "5      John    79       76       93             True\n",
       "1      Jane    88       79       67             True\n",
       "9   Richard    69       80       94             True\n",
       "0     Sally    62       85       80             True\n",
       "4       Ada    77       92       98             True\n",
       "3     Billy    98       96       88             True\n",
       "10    Isaac    92       99       93             True"
      ],
      "text/html": "<div>\n<style scoped>\n    .dataframe tbody tr th:only-of-type {\n        vertical-align: middle;\n    }\n\n    .dataframe tbody tr th {\n        vertical-align: top;\n    }\n\n    .dataframe thead th {\n        text-align: right;\n    }\n</style>\n<table border=\"1\" class=\"dataframe\">\n  <thead>\n    <tr style=\"text-align: right;\">\n      <th></th>\n      <th>name</th>\n      <th>math</th>\n      <th>english</th>\n      <th>reading</th>\n      <th>passing_english</th>\n    </tr>\n  </thead>\n  <tbody>\n    <tr>\n      <th>8</th>\n      <td>Albert</td>\n      <td>92</td>\n      <td>62</td>\n      <td>87</td>\n      <td>False</td>\n    </tr>\n    <tr>\n      <th>11</th>\n      <td>Alan</td>\n      <td>92</td>\n      <td>62</td>\n      <td>72</td>\n      <td>False</td>\n    </tr>\n    <tr>\n      <th>7</th>\n      <td>Marie</td>\n      <td>93</td>\n      <td>63</td>\n      <td>90</td>\n      <td>False</td>\n    </tr>\n    <tr>\n      <th>6</th>\n      <td>Thomas</td>\n      <td>82</td>\n      <td>64</td>\n      <td>81</td>\n      <td>False</td>\n    </tr>\n    <tr>\n      <th>2</th>\n      <td>Suzie</td>\n      <td>94</td>\n      <td>74</td>\n      <td>95</td>\n      <td>True</td>\n    </tr>\n    <tr>\n      <th>5</th>\n      <td>John</td>\n      <td>79</td>\n      <td>76</td>\n      <td>93</td>\n      <td>True</td>\n    </tr>\n    <tr>\n      <th>1</th>\n      <td>Jane</td>\n      <td>88</td>\n      <td>79</td>\n      <td>67</td>\n      <td>True</td>\n    </tr>\n    <tr>\n      <th>9</th>\n      <td>Richard</td>\n      <td>69</td>\n      <td>80</td>\n      <td>94</td>\n      <td>True</td>\n    </tr>\n    <tr>\n      <th>0</th>\n      <td>Sally</td>\n      <td>62</td>\n      <td>85</td>\n      <td>80</td>\n      <td>True</td>\n    </tr>\n    <tr>\n      <th>4</th>\n      <td>Ada</td>\n      <td>77</td>\n      <td>92</td>\n      <td>98</td>\n      <td>True</td>\n    </tr>\n    <tr>\n      <th>3</th>\n      <td>Billy</td>\n      <td>98</td>\n      <td>96</td>\n      <td>88</td>\n      <td>True</td>\n    </tr>\n    <tr>\n      <th>10</th>\n      <td>Isaac</td>\n      <td>92</td>\n      <td>99</td>\n      <td>93</td>\n      <td>True</td>\n    </tr>\n  </tbody>\n</table>\n</div>"
     },
     "metadata": {},
     "execution_count": 13
    }
   ],
   "source": [
    "# Sort the english grades first by passing_english, and then by the actual english grade, similar to how we did in the last step.\n",
    "\n",
    "df.sort_values([\"passing_english\", \"english\"])"
   ]
  },
  {
   "cell_type": "code",
   "execution_count": 14,
   "metadata": {},
   "outputs": [
    {
     "output_type": "execute_result",
     "data": {
      "text/plain": [
       "       name  math  english  reading  passing_english  overall_grade\n",
       "0     Sally    62       85       80             True      75.666667\n",
       "1      Jane    88       79       67             True      78.000000\n",
       "2     Suzie    94       74       95             True      87.666667\n",
       "3     Billy    98       96       88             True      94.000000\n",
       "4       Ada    77       92       98             True      89.000000\n",
       "5      John    79       76       93             True      82.666667\n",
       "6    Thomas    82       64       81            False      75.666667\n",
       "7     Marie    93       63       90            False      82.000000\n",
       "8    Albert    92       62       87            False      80.333333\n",
       "9   Richard    69       80       94             True      81.000000\n",
       "10    Isaac    92       99       93             True      94.666667\n",
       "11     Alan    92       62       72            False      75.333333"
      ],
      "text/html": "<div>\n<style scoped>\n    .dataframe tbody tr th:only-of-type {\n        vertical-align: middle;\n    }\n\n    .dataframe tbody tr th {\n        vertical-align: top;\n    }\n\n    .dataframe thead th {\n        text-align: right;\n    }\n</style>\n<table border=\"1\" class=\"dataframe\">\n  <thead>\n    <tr style=\"text-align: right;\">\n      <th></th>\n      <th>name</th>\n      <th>math</th>\n      <th>english</th>\n      <th>reading</th>\n      <th>passing_english</th>\n      <th>overall_grade</th>\n    </tr>\n  </thead>\n  <tbody>\n    <tr>\n      <th>0</th>\n      <td>Sally</td>\n      <td>62</td>\n      <td>85</td>\n      <td>80</td>\n      <td>True</td>\n      <td>75.666667</td>\n    </tr>\n    <tr>\n      <th>1</th>\n      <td>Jane</td>\n      <td>88</td>\n      <td>79</td>\n      <td>67</td>\n      <td>True</td>\n      <td>78.000000</td>\n    </tr>\n    <tr>\n      <th>2</th>\n      <td>Suzie</td>\n      <td>94</td>\n      <td>74</td>\n      <td>95</td>\n      <td>True</td>\n      <td>87.666667</td>\n    </tr>\n    <tr>\n      <th>3</th>\n      <td>Billy</td>\n      <td>98</td>\n      <td>96</td>\n      <td>88</td>\n      <td>True</td>\n      <td>94.000000</td>\n    </tr>\n    <tr>\n      <th>4</th>\n      <td>Ada</td>\n      <td>77</td>\n      <td>92</td>\n      <td>98</td>\n      <td>True</td>\n      <td>89.000000</td>\n    </tr>\n    <tr>\n      <th>5</th>\n      <td>John</td>\n      <td>79</td>\n      <td>76</td>\n      <td>93</td>\n      <td>True</td>\n      <td>82.666667</td>\n    </tr>\n    <tr>\n      <th>6</th>\n      <td>Thomas</td>\n      <td>82</td>\n      <td>64</td>\n      <td>81</td>\n      <td>False</td>\n      <td>75.666667</td>\n    </tr>\n    <tr>\n      <th>7</th>\n      <td>Marie</td>\n      <td>93</td>\n      <td>63</td>\n      <td>90</td>\n      <td>False</td>\n      <td>82.000000</td>\n    </tr>\n    <tr>\n      <th>8</th>\n      <td>Albert</td>\n      <td>92</td>\n      <td>62</td>\n      <td>87</td>\n      <td>False</td>\n      <td>80.333333</td>\n    </tr>\n    <tr>\n      <th>9</th>\n      <td>Richard</td>\n      <td>69</td>\n      <td>80</td>\n      <td>94</td>\n      <td>True</td>\n      <td>81.000000</td>\n    </tr>\n    <tr>\n      <th>10</th>\n      <td>Isaac</td>\n      <td>92</td>\n      <td>99</td>\n      <td>93</td>\n      <td>True</td>\n      <td>94.666667</td>\n    </tr>\n    <tr>\n      <th>11</th>\n      <td>Alan</td>\n      <td>92</td>\n      <td>62</td>\n      <td>72</td>\n      <td>False</td>\n      <td>75.333333</td>\n    </tr>\n  </tbody>\n</table>\n</div>"
     },
     "metadata": {},
     "execution_count": 14
    }
   ],
   "source": [
    "# Calculate each students overall grade and add it as a column on the dataframe. The overall grade is the average of the math, english, and reading grades.\n",
    "\n",
    "df['overall_grade'] = (df.english + df.math + df.reading)/3\n",
    "df\n"
   ]
  },
  {
   "cell_type": "code",
   "execution_count": 15,
   "metadata": {},
   "outputs": [],
   "source": [
    "# Load the mpg dataset. Read the documentation for the dataset and use it for the following questions:\n",
    "mpg = data('mpg')\n"
   ]
  },
  {
   "cell_type": "code",
   "execution_count": 16,
   "metadata": {},
   "outputs": [
    {
     "output_type": "execute_result",
     "data": {
      "text/plain": [
       "(234, 11)"
      ]
     },
     "metadata": {},
     "execution_count": 16
    }
   ],
   "source": [
    "# How many rows and columns are there?  234 rows and 11 columns\n",
    "\n",
    "mpg.shape"
   ]
  },
  {
   "cell_type": "code",
   "execution_count": 17,
   "metadata": {},
   "outputs": [
    {
     "output_type": "execute_result",
     "data": {
      "text/plain": [
       "manufacturer     object\n",
       "model            object\n",
       "displ           float64\n",
       "year              int64\n",
       "cyl               int64\n",
       "trans            object\n",
       "drv              object\n",
       "cty               int64\n",
       "hwy               int64\n",
       "fl               object\n",
       "class            object\n",
       "dtype: object"
      ]
     },
     "metadata": {},
     "execution_count": 17
    }
   ],
   "source": [
    "# What are the data types of each column?\n",
    "\n",
    "mpg.dtypes"
   ]
  },
  {
   "cell_type": "code",
   "execution_count": 18,
   "metadata": {},
   "outputs": [
    {
     "output_type": "execute_result",
     "data": {
      "text/plain": [
       "<bound method DataFrame.info of     manufacturer   model  displ  year  cyl       trans drv  cty  hwy fl  \\\n",
       "1           audi      a4    1.8  1999    4    auto(l5)   f   18   29  p   \n",
       "2           audi      a4    1.8  1999    4  manual(m5)   f   21   29  p   \n",
       "3           audi      a4    2.0  2008    4  manual(m6)   f   20   31  p   \n",
       "4           audi      a4    2.0  2008    4    auto(av)   f   21   30  p   \n",
       "5           audi      a4    2.8  1999    6    auto(l5)   f   16   26  p   \n",
       "..           ...     ...    ...   ...  ...         ...  ..  ...  ... ..   \n",
       "230   volkswagen  passat    2.0  2008    4    auto(s6)   f   19   28  p   \n",
       "231   volkswagen  passat    2.0  2008    4  manual(m6)   f   21   29  p   \n",
       "232   volkswagen  passat    2.8  1999    6    auto(l5)   f   16   26  p   \n",
       "233   volkswagen  passat    2.8  1999    6  manual(m5)   f   18   26  p   \n",
       "234   volkswagen  passat    3.6  2008    6    auto(s6)   f   17   26  p   \n",
       "\n",
       "       class  \n",
       "1    compact  \n",
       "2    compact  \n",
       "3    compact  \n",
       "4    compact  \n",
       "5    compact  \n",
       "..       ...  \n",
       "230  midsize  \n",
       "231  midsize  \n",
       "232  midsize  \n",
       "233  midsize  \n",
       "234  midsize  \n",
       "\n",
       "[234 rows x 11 columns]>"
      ]
     },
     "metadata": {},
     "execution_count": 18
    }
   ],
   "source": [
    "# Summarize the dataframe with .info and .describe.  Auto make and model with year manufactured, engine type and gas mileage efficiency\n",
    "mpg.info"
   ]
  },
  {
   "source": [
    "mpg.describe"
   ],
   "cell_type": "code",
   "metadata": {},
   "execution_count": 19,
   "outputs": [
    {
     "output_type": "execute_result",
     "data": {
      "text/plain": [
       "<bound method NDFrame.describe of     manufacturer   model  displ  year  cyl       trans drv  cty  hwy fl  \\\n",
       "1           audi      a4    1.8  1999    4    auto(l5)   f   18   29  p   \n",
       "2           audi      a4    1.8  1999    4  manual(m5)   f   21   29  p   \n",
       "3           audi      a4    2.0  2008    4  manual(m6)   f   20   31  p   \n",
       "4           audi      a4    2.0  2008    4    auto(av)   f   21   30  p   \n",
       "5           audi      a4    2.8  1999    6    auto(l5)   f   16   26  p   \n",
       "..           ...     ...    ...   ...  ...         ...  ..  ...  ... ..   \n",
       "230   volkswagen  passat    2.0  2008    4    auto(s6)   f   19   28  p   \n",
       "231   volkswagen  passat    2.0  2008    4  manual(m6)   f   21   29  p   \n",
       "232   volkswagen  passat    2.8  1999    6    auto(l5)   f   16   26  p   \n",
       "233   volkswagen  passat    2.8  1999    6  manual(m5)   f   18   26  p   \n",
       "234   volkswagen  passat    3.6  2008    6    auto(s6)   f   17   26  p   \n",
       "\n",
       "       class  \n",
       "1    compact  \n",
       "2    compact  \n",
       "3    compact  \n",
       "4    compact  \n",
       "5    compact  \n",
       "..       ...  \n",
       "230  midsize  \n",
       "231  midsize  \n",
       "232  midsize  \n",
       "233  midsize  \n",
       "234  midsize  \n",
       "\n",
       "[234 rows x 11 columns]>"
      ]
     },
     "metadata": {},
     "execution_count": 19
    }
   ]
  },
  {
   "cell_type": "code",
   "execution_count": 20,
   "metadata": {},
   "outputs": [
    {
     "output_type": "execute_result",
     "data": {
      "text/plain": [
       "    manufacturer   model  displ  year  cyl       trans drv  city  hwy fl  \\\n",
       "1           audi      a4    1.8  1999    4    auto(l5)   f    18   29  p   \n",
       "2           audi      a4    1.8  1999    4  manual(m5)   f    21   29  p   \n",
       "3           audi      a4    2.0  2008    4  manual(m6)   f    20   31  p   \n",
       "4           audi      a4    2.0  2008    4    auto(av)   f    21   30  p   \n",
       "5           audi      a4    2.8  1999    6    auto(l5)   f    16   26  p   \n",
       "..           ...     ...    ...   ...  ...         ...  ..   ...  ... ..   \n",
       "230   volkswagen  passat    2.0  2008    4    auto(s6)   f    19   28  p   \n",
       "231   volkswagen  passat    2.0  2008    4  manual(m6)   f    21   29  p   \n",
       "232   volkswagen  passat    2.8  1999    6    auto(l5)   f    16   26  p   \n",
       "233   volkswagen  passat    2.8  1999    6  manual(m5)   f    18   26  p   \n",
       "234   volkswagen  passat    3.6  2008    6    auto(s6)   f    17   26  p   \n",
       "\n",
       "       class  \n",
       "1    compact  \n",
       "2    compact  \n",
       "3    compact  \n",
       "4    compact  \n",
       "5    compact  \n",
       "..       ...  \n",
       "230  midsize  \n",
       "231  midsize  \n",
       "232  midsize  \n",
       "233  midsize  \n",
       "234  midsize  \n",
       "\n",
       "[234 rows x 11 columns]"
      ],
      "text/html": "<div>\n<style scoped>\n    .dataframe tbody tr th:only-of-type {\n        vertical-align: middle;\n    }\n\n    .dataframe tbody tr th {\n        vertical-align: top;\n    }\n\n    .dataframe thead th {\n        text-align: right;\n    }\n</style>\n<table border=\"1\" class=\"dataframe\">\n  <thead>\n    <tr style=\"text-align: right;\">\n      <th></th>\n      <th>manufacturer</th>\n      <th>model</th>\n      <th>displ</th>\n      <th>year</th>\n      <th>cyl</th>\n      <th>trans</th>\n      <th>drv</th>\n      <th>city</th>\n      <th>hwy</th>\n      <th>fl</th>\n      <th>class</th>\n    </tr>\n  </thead>\n  <tbody>\n    <tr>\n      <th>1</th>\n      <td>audi</td>\n      <td>a4</td>\n      <td>1.8</td>\n      <td>1999</td>\n      <td>4</td>\n      <td>auto(l5)</td>\n      <td>f</td>\n      <td>18</td>\n      <td>29</td>\n      <td>p</td>\n      <td>compact</td>\n    </tr>\n    <tr>\n      <th>2</th>\n      <td>audi</td>\n      <td>a4</td>\n      <td>1.8</td>\n      <td>1999</td>\n      <td>4</td>\n      <td>manual(m5)</td>\n      <td>f</td>\n      <td>21</td>\n      <td>29</td>\n      <td>p</td>\n      <td>compact</td>\n    </tr>\n    <tr>\n      <th>3</th>\n      <td>audi</td>\n      <td>a4</td>\n      <td>2.0</td>\n      <td>2008</td>\n      <td>4</td>\n      <td>manual(m6)</td>\n      <td>f</td>\n      <td>20</td>\n      <td>31</td>\n      <td>p</td>\n      <td>compact</td>\n    </tr>\n    <tr>\n      <th>4</th>\n      <td>audi</td>\n      <td>a4</td>\n      <td>2.0</td>\n      <td>2008</td>\n      <td>4</td>\n      <td>auto(av)</td>\n      <td>f</td>\n      <td>21</td>\n      <td>30</td>\n      <td>p</td>\n      <td>compact</td>\n    </tr>\n    <tr>\n      <th>5</th>\n      <td>audi</td>\n      <td>a4</td>\n      <td>2.8</td>\n      <td>1999</td>\n      <td>6</td>\n      <td>auto(l5)</td>\n      <td>f</td>\n      <td>16</td>\n      <td>26</td>\n      <td>p</td>\n      <td>compact</td>\n    </tr>\n    <tr>\n      <th>...</th>\n      <td>...</td>\n      <td>...</td>\n      <td>...</td>\n      <td>...</td>\n      <td>...</td>\n      <td>...</td>\n      <td>...</td>\n      <td>...</td>\n      <td>...</td>\n      <td>...</td>\n      <td>...</td>\n    </tr>\n    <tr>\n      <th>230</th>\n      <td>volkswagen</td>\n      <td>passat</td>\n      <td>2.0</td>\n      <td>2008</td>\n      <td>4</td>\n      <td>auto(s6)</td>\n      <td>f</td>\n      <td>19</td>\n      <td>28</td>\n      <td>p</td>\n      <td>midsize</td>\n    </tr>\n    <tr>\n      <th>231</th>\n      <td>volkswagen</td>\n      <td>passat</td>\n      <td>2.0</td>\n      <td>2008</td>\n      <td>4</td>\n      <td>manual(m6)</td>\n      <td>f</td>\n      <td>21</td>\n      <td>29</td>\n      <td>p</td>\n      <td>midsize</td>\n    </tr>\n    <tr>\n      <th>232</th>\n      <td>volkswagen</td>\n      <td>passat</td>\n      <td>2.8</td>\n      <td>1999</td>\n      <td>6</td>\n      <td>auto(l5)</td>\n      <td>f</td>\n      <td>16</td>\n      <td>26</td>\n      <td>p</td>\n      <td>midsize</td>\n    </tr>\n    <tr>\n      <th>233</th>\n      <td>volkswagen</td>\n      <td>passat</td>\n      <td>2.8</td>\n      <td>1999</td>\n      <td>6</td>\n      <td>manual(m5)</td>\n      <td>f</td>\n      <td>18</td>\n      <td>26</td>\n      <td>p</td>\n      <td>midsize</td>\n    </tr>\n    <tr>\n      <th>234</th>\n      <td>volkswagen</td>\n      <td>passat</td>\n      <td>3.6</td>\n      <td>2008</td>\n      <td>6</td>\n      <td>auto(s6)</td>\n      <td>f</td>\n      <td>17</td>\n      <td>26</td>\n      <td>p</td>\n      <td>midsize</td>\n    </tr>\n  </tbody>\n</table>\n<p>234 rows × 11 columns</p>\n</div>"
     },
     "metadata": {},
     "execution_count": 20
    }
   ],
   "source": [
    "# Rename the cty column to city.\n",
    "\n",
    "mpg.rename(columns={'cty': 'city'})"
   ]
  },
  {
   "cell_type": "code",
   "execution_count": 21,
   "metadata": {},
   "outputs": [
    {
     "output_type": "execute_result",
     "data": {
      "text/plain": [
       "    manufacturer   model  displ  year  cyl       trans drv  cty  highway fl  \\\n",
       "1           audi      a4    1.8  1999    4    auto(l5)   f   18       29  p   \n",
       "2           audi      a4    1.8  1999    4  manual(m5)   f   21       29  p   \n",
       "3           audi      a4    2.0  2008    4  manual(m6)   f   20       31  p   \n",
       "4           audi      a4    2.0  2008    4    auto(av)   f   21       30  p   \n",
       "5           audi      a4    2.8  1999    6    auto(l5)   f   16       26  p   \n",
       "..           ...     ...    ...   ...  ...         ...  ..  ...      ... ..   \n",
       "230   volkswagen  passat    2.0  2008    4    auto(s6)   f   19       28  p   \n",
       "231   volkswagen  passat    2.0  2008    4  manual(m6)   f   21       29  p   \n",
       "232   volkswagen  passat    2.8  1999    6    auto(l5)   f   16       26  p   \n",
       "233   volkswagen  passat    2.8  1999    6  manual(m5)   f   18       26  p   \n",
       "234   volkswagen  passat    3.6  2008    6    auto(s6)   f   17       26  p   \n",
       "\n",
       "       class  \n",
       "1    compact  \n",
       "2    compact  \n",
       "3    compact  \n",
       "4    compact  \n",
       "5    compact  \n",
       "..       ...  \n",
       "230  midsize  \n",
       "231  midsize  \n",
       "232  midsize  \n",
       "233  midsize  \n",
       "234  midsize  \n",
       "\n",
       "[234 rows x 11 columns]"
      ],
      "text/html": "<div>\n<style scoped>\n    .dataframe tbody tr th:only-of-type {\n        vertical-align: middle;\n    }\n\n    .dataframe tbody tr th {\n        vertical-align: top;\n    }\n\n    .dataframe thead th {\n        text-align: right;\n    }\n</style>\n<table border=\"1\" class=\"dataframe\">\n  <thead>\n    <tr style=\"text-align: right;\">\n      <th></th>\n      <th>manufacturer</th>\n      <th>model</th>\n      <th>displ</th>\n      <th>year</th>\n      <th>cyl</th>\n      <th>trans</th>\n      <th>drv</th>\n      <th>cty</th>\n      <th>highway</th>\n      <th>fl</th>\n      <th>class</th>\n    </tr>\n  </thead>\n  <tbody>\n    <tr>\n      <th>1</th>\n      <td>audi</td>\n      <td>a4</td>\n      <td>1.8</td>\n      <td>1999</td>\n      <td>4</td>\n      <td>auto(l5)</td>\n      <td>f</td>\n      <td>18</td>\n      <td>29</td>\n      <td>p</td>\n      <td>compact</td>\n    </tr>\n    <tr>\n      <th>2</th>\n      <td>audi</td>\n      <td>a4</td>\n      <td>1.8</td>\n      <td>1999</td>\n      <td>4</td>\n      <td>manual(m5)</td>\n      <td>f</td>\n      <td>21</td>\n      <td>29</td>\n      <td>p</td>\n      <td>compact</td>\n    </tr>\n    <tr>\n      <th>3</th>\n      <td>audi</td>\n      <td>a4</td>\n      <td>2.0</td>\n      <td>2008</td>\n      <td>4</td>\n      <td>manual(m6)</td>\n      <td>f</td>\n      <td>20</td>\n      <td>31</td>\n      <td>p</td>\n      <td>compact</td>\n    </tr>\n    <tr>\n      <th>4</th>\n      <td>audi</td>\n      <td>a4</td>\n      <td>2.0</td>\n      <td>2008</td>\n      <td>4</td>\n      <td>auto(av)</td>\n      <td>f</td>\n      <td>21</td>\n      <td>30</td>\n      <td>p</td>\n      <td>compact</td>\n    </tr>\n    <tr>\n      <th>5</th>\n      <td>audi</td>\n      <td>a4</td>\n      <td>2.8</td>\n      <td>1999</td>\n      <td>6</td>\n      <td>auto(l5)</td>\n      <td>f</td>\n      <td>16</td>\n      <td>26</td>\n      <td>p</td>\n      <td>compact</td>\n    </tr>\n    <tr>\n      <th>...</th>\n      <td>...</td>\n      <td>...</td>\n      <td>...</td>\n      <td>...</td>\n      <td>...</td>\n      <td>...</td>\n      <td>...</td>\n      <td>...</td>\n      <td>...</td>\n      <td>...</td>\n      <td>...</td>\n    </tr>\n    <tr>\n      <th>230</th>\n      <td>volkswagen</td>\n      <td>passat</td>\n      <td>2.0</td>\n      <td>2008</td>\n      <td>4</td>\n      <td>auto(s6)</td>\n      <td>f</td>\n      <td>19</td>\n      <td>28</td>\n      <td>p</td>\n      <td>midsize</td>\n    </tr>\n    <tr>\n      <th>231</th>\n      <td>volkswagen</td>\n      <td>passat</td>\n      <td>2.0</td>\n      <td>2008</td>\n      <td>4</td>\n      <td>manual(m6)</td>\n      <td>f</td>\n      <td>21</td>\n      <td>29</td>\n      <td>p</td>\n      <td>midsize</td>\n    </tr>\n    <tr>\n      <th>232</th>\n      <td>volkswagen</td>\n      <td>passat</td>\n      <td>2.8</td>\n      <td>1999</td>\n      <td>6</td>\n      <td>auto(l5)</td>\n      <td>f</td>\n      <td>16</td>\n      <td>26</td>\n      <td>p</td>\n      <td>midsize</td>\n    </tr>\n    <tr>\n      <th>233</th>\n      <td>volkswagen</td>\n      <td>passat</td>\n      <td>2.8</td>\n      <td>1999</td>\n      <td>6</td>\n      <td>manual(m5)</td>\n      <td>f</td>\n      <td>18</td>\n      <td>26</td>\n      <td>p</td>\n      <td>midsize</td>\n    </tr>\n    <tr>\n      <th>234</th>\n      <td>volkswagen</td>\n      <td>passat</td>\n      <td>3.6</td>\n      <td>2008</td>\n      <td>6</td>\n      <td>auto(s6)</td>\n      <td>f</td>\n      <td>17</td>\n      <td>26</td>\n      <td>p</td>\n      <td>midsize</td>\n    </tr>\n  </tbody>\n</table>\n<p>234 rows × 11 columns</p>\n</div>"
     },
     "metadata": {},
     "execution_count": 21
    }
   ],
   "source": [
    "# Rename the hwy column to highway.\n",
    "\n",
    "mpg.rename(columns={'hwy': 'highway'})"
   ]
  },
  {
   "cell_type": "code",
   "execution_count": 23,
   "metadata": {},
   "outputs": [
    {
     "output_type": "execute_result",
     "data": {
      "text/plain": [
       "Empty DataFrame\n",
       "Columns: [manufacturer, model, displ, year, cyl, trans, drv, cty, hwy, fl, class]\n",
       "Index: []"
      ],
      "text/html": "<div>\n<style scoped>\n    .dataframe tbody tr th:only-of-type {\n        vertical-align: middle;\n    }\n\n    .dataframe tbody tr th {\n        vertical-align: top;\n    }\n\n    .dataframe thead th {\n        text-align: right;\n    }\n</style>\n<table border=\"1\" class=\"dataframe\">\n  <thead>\n    <tr style=\"text-align: right;\">\n      <th></th>\n      <th>manufacturer</th>\n      <th>model</th>\n      <th>displ</th>\n      <th>year</th>\n      <th>cyl</th>\n      <th>trans</th>\n      <th>drv</th>\n      <th>cty</th>\n      <th>hwy</th>\n      <th>fl</th>\n      <th>class</th>\n    </tr>\n  </thead>\n  <tbody>\n  </tbody>\n</table>\n</div>"
     },
     "metadata": {},
     "execution_count": 23
    }
   ],
   "source": [
    "# Do any cars have better city mileage than highway mileage?  no\n",
    "\n",
    "mpg[mpg.cty > mpg.hwy]\n"
   ]
  },
  {
   "cell_type": "code",
   "execution_count": 24,
   "metadata": {},
   "outputs": [
    {
     "output_type": "execute_result",
     "data": {
      "text/plain": [
       "[1      False\n",
       " 2      False\n",
       " 3      False\n",
       " 4      False\n",
       " 5      False\n",
       "        ...  \n",
       " 230    False\n",
       " 231    False\n",
       " 232    False\n",
       " 233    False\n",
       " 234    False\n",
       " Length: 234, dtype: bool]"
      ]
     },
     "metadata": {},
     "execution_count": 24
    }
   ],
   "source": [
    "[mpg.cty>mpg.hwy]"
   ]
  },
  {
   "cell_type": "code",
   "execution_count": 25,
   "metadata": {},
   "outputs": [
    {
     "output_type": "execute_result",
     "data": {
      "text/plain": [
       "    manufacturer   model  displ  year  cyl       trans drv  cty  hwy fl  \\\n",
       "1           audi      a4    1.8  1999    4    auto(l5)   f   18   29  p   \n",
       "2           audi      a4    1.8  1999    4  manual(m5)   f   21   29  p   \n",
       "3           audi      a4    2.0  2008    4  manual(m6)   f   20   31  p   \n",
       "4           audi      a4    2.0  2008    4    auto(av)   f   21   30  p   \n",
       "5           audi      a4    2.8  1999    6    auto(l5)   f   16   26  p   \n",
       "..           ...     ...    ...   ...  ...         ...  ..  ...  ... ..   \n",
       "230   volkswagen  passat    2.0  2008    4    auto(s6)   f   19   28  p   \n",
       "231   volkswagen  passat    2.0  2008    4  manual(m6)   f   21   29  p   \n",
       "232   volkswagen  passat    2.8  1999    6    auto(l5)   f   16   26  p   \n",
       "233   volkswagen  passat    2.8  1999    6  manual(m5)   f   18   26  p   \n",
       "234   volkswagen  passat    3.6  2008    6    auto(s6)   f   17   26  p   \n",
       "\n",
       "       class  mileage_difference  \n",
       "1    compact                  11  \n",
       "2    compact                   8  \n",
       "3    compact                  11  \n",
       "4    compact                   9  \n",
       "5    compact                  10  \n",
       "..       ...                 ...  \n",
       "230  midsize                   9  \n",
       "231  midsize                   8  \n",
       "232  midsize                  10  \n",
       "233  midsize                   8  \n",
       "234  midsize                   9  \n",
       "\n",
       "[234 rows x 12 columns]"
      ],
      "text/html": "<div>\n<style scoped>\n    .dataframe tbody tr th:only-of-type {\n        vertical-align: middle;\n    }\n\n    .dataframe tbody tr th {\n        vertical-align: top;\n    }\n\n    .dataframe thead th {\n        text-align: right;\n    }\n</style>\n<table border=\"1\" class=\"dataframe\">\n  <thead>\n    <tr style=\"text-align: right;\">\n      <th></th>\n      <th>manufacturer</th>\n      <th>model</th>\n      <th>displ</th>\n      <th>year</th>\n      <th>cyl</th>\n      <th>trans</th>\n      <th>drv</th>\n      <th>cty</th>\n      <th>hwy</th>\n      <th>fl</th>\n      <th>class</th>\n      <th>mileage_difference</th>\n    </tr>\n  </thead>\n  <tbody>\n    <tr>\n      <th>1</th>\n      <td>audi</td>\n      <td>a4</td>\n      <td>1.8</td>\n      <td>1999</td>\n      <td>4</td>\n      <td>auto(l5)</td>\n      <td>f</td>\n      <td>18</td>\n      <td>29</td>\n      <td>p</td>\n      <td>compact</td>\n      <td>11</td>\n    </tr>\n    <tr>\n      <th>2</th>\n      <td>audi</td>\n      <td>a4</td>\n      <td>1.8</td>\n      <td>1999</td>\n      <td>4</td>\n      <td>manual(m5)</td>\n      <td>f</td>\n      <td>21</td>\n      <td>29</td>\n      <td>p</td>\n      <td>compact</td>\n      <td>8</td>\n    </tr>\n    <tr>\n      <th>3</th>\n      <td>audi</td>\n      <td>a4</td>\n      <td>2.0</td>\n      <td>2008</td>\n      <td>4</td>\n      <td>manual(m6)</td>\n      <td>f</td>\n      <td>20</td>\n      <td>31</td>\n      <td>p</td>\n      <td>compact</td>\n      <td>11</td>\n    </tr>\n    <tr>\n      <th>4</th>\n      <td>audi</td>\n      <td>a4</td>\n      <td>2.0</td>\n      <td>2008</td>\n      <td>4</td>\n      <td>auto(av)</td>\n      <td>f</td>\n      <td>21</td>\n      <td>30</td>\n      <td>p</td>\n      <td>compact</td>\n      <td>9</td>\n    </tr>\n    <tr>\n      <th>5</th>\n      <td>audi</td>\n      <td>a4</td>\n      <td>2.8</td>\n      <td>1999</td>\n      <td>6</td>\n      <td>auto(l5)</td>\n      <td>f</td>\n      <td>16</td>\n      <td>26</td>\n      <td>p</td>\n      <td>compact</td>\n      <td>10</td>\n    </tr>\n    <tr>\n      <th>...</th>\n      <td>...</td>\n      <td>...</td>\n      <td>...</td>\n      <td>...</td>\n      <td>...</td>\n      <td>...</td>\n      <td>...</td>\n      <td>...</td>\n      <td>...</td>\n      <td>...</td>\n      <td>...</td>\n      <td>...</td>\n    </tr>\n    <tr>\n      <th>230</th>\n      <td>volkswagen</td>\n      <td>passat</td>\n      <td>2.0</td>\n      <td>2008</td>\n      <td>4</td>\n      <td>auto(s6)</td>\n      <td>f</td>\n      <td>19</td>\n      <td>28</td>\n      <td>p</td>\n      <td>midsize</td>\n      <td>9</td>\n    </tr>\n    <tr>\n      <th>231</th>\n      <td>volkswagen</td>\n      <td>passat</td>\n      <td>2.0</td>\n      <td>2008</td>\n      <td>4</td>\n      <td>manual(m6)</td>\n      <td>f</td>\n      <td>21</td>\n      <td>29</td>\n      <td>p</td>\n      <td>midsize</td>\n      <td>8</td>\n    </tr>\n    <tr>\n      <th>232</th>\n      <td>volkswagen</td>\n      <td>passat</td>\n      <td>2.8</td>\n      <td>1999</td>\n      <td>6</td>\n      <td>auto(l5)</td>\n      <td>f</td>\n      <td>16</td>\n      <td>26</td>\n      <td>p</td>\n      <td>midsize</td>\n      <td>10</td>\n    </tr>\n    <tr>\n      <th>233</th>\n      <td>volkswagen</td>\n      <td>passat</td>\n      <td>2.8</td>\n      <td>1999</td>\n      <td>6</td>\n      <td>manual(m5)</td>\n      <td>f</td>\n      <td>18</td>\n      <td>26</td>\n      <td>p</td>\n      <td>midsize</td>\n      <td>8</td>\n    </tr>\n    <tr>\n      <th>234</th>\n      <td>volkswagen</td>\n      <td>passat</td>\n      <td>3.6</td>\n      <td>2008</td>\n      <td>6</td>\n      <td>auto(s6)</td>\n      <td>f</td>\n      <td>17</td>\n      <td>26</td>\n      <td>p</td>\n      <td>midsize</td>\n      <td>9</td>\n    </tr>\n  </tbody>\n</table>\n<p>234 rows × 12 columns</p>\n</div>"
     },
     "metadata": {},
     "execution_count": 25
    }
   ],
   "source": [
    "# Create a column named mileage_difference this column should contain the difference between highway and city mileage for each car.\n",
    "\n",
    "mpg['mileage_difference'] = mpg.hwy - mpg.cty\n",
    "mpg"
   ]
  },
  {
   "cell_type": "code",
   "execution_count": 77,
   "metadata": {},
   "outputs": [
    {
     "output_type": "stream",
     "name": "stdout",
     "text": [
      "12\n"
     ]
    },
    {
     "output_type": "execute_result",
     "data": {
      "text/plain": [
       "    manufacturer       model  displ  year  cyl     trans drv  cty  hwy fl  \\\n",
       "107        honda       civic    1.8  2008    4  auto(l5)   f   24   36  c   \n",
       "223   volkswagen  new beetle    1.9  1999    4  auto(l4)   f   29   41  d   \n",
       "\n",
       "          class  better_hwy_than_city  mileage_difference  \n",
       "107  subcompact                 False                  12  \n",
       "223  subcompact                 False                  12  "
      ],
      "text/html": "<div>\n<style scoped>\n    .dataframe tbody tr th:only-of-type {\n        vertical-align: middle;\n    }\n\n    .dataframe tbody tr th {\n        vertical-align: top;\n    }\n\n    .dataframe thead th {\n        text-align: right;\n    }\n</style>\n<table border=\"1\" class=\"dataframe\">\n  <thead>\n    <tr style=\"text-align: right;\">\n      <th></th>\n      <th>manufacturer</th>\n      <th>model</th>\n      <th>displ</th>\n      <th>year</th>\n      <th>cyl</th>\n      <th>trans</th>\n      <th>drv</th>\n      <th>cty</th>\n      <th>hwy</th>\n      <th>fl</th>\n      <th>class</th>\n      <th>better_hwy_than_city</th>\n      <th>mileage_difference</th>\n    </tr>\n  </thead>\n  <tbody>\n    <tr>\n      <th>107</th>\n      <td>honda</td>\n      <td>civic</td>\n      <td>1.8</td>\n      <td>2008</td>\n      <td>4</td>\n      <td>auto(l5)</td>\n      <td>f</td>\n      <td>24</td>\n      <td>36</td>\n      <td>c</td>\n      <td>subcompact</td>\n      <td>False</td>\n      <td>12</td>\n    </tr>\n    <tr>\n      <th>223</th>\n      <td>volkswagen</td>\n      <td>new beetle</td>\n      <td>1.9</td>\n      <td>1999</td>\n      <td>4</td>\n      <td>auto(l4)</td>\n      <td>f</td>\n      <td>29</td>\n      <td>41</td>\n      <td>d</td>\n      <td>subcompact</td>\n      <td>False</td>\n      <td>12</td>\n    </tr>\n  </tbody>\n</table>\n</div>"
     },
     "metadata": {},
     "execution_count": 77
    }
   ],
   "source": [
    "# Which car (or cars) has the highest mileage difference?  \n",
    "max_mileage_difference = (mpg.hwy-mpg.cty).max()\n",
    "print(max_mileage_difference)\n",
    "\n",
    "mpg[mpg.mileage_difference == max_mileage_difference]\n"
   ]
  },
  {
   "cell_type": "code",
   "execution_count": 111,
   "metadata": {},
   "outputs": [
    {
     "output_type": "execute_result",
     "data": {
      "text/plain": [
       "    manufacturer  model  displ  year  cyl       trans drv  cty  hwy fl  \\\n",
       "213   volkswagen  jetta    1.9  1999    4  manual(m5)   f   33   44  d   \n",
       "\n",
       "       class  mileage_difference  average_mileage  \n",
       "213  compact                  11              5.5  "
      ],
      "text/html": "<div>\n<style scoped>\n    .dataframe tbody tr th:only-of-type {\n        vertical-align: middle;\n    }\n\n    .dataframe tbody tr th {\n        vertical-align: top;\n    }\n\n    .dataframe thead th {\n        text-align: right;\n    }\n</style>\n<table border=\"1\" class=\"dataframe\">\n  <thead>\n    <tr style=\"text-align: right;\">\n      <th></th>\n      <th>manufacturer</th>\n      <th>model</th>\n      <th>displ</th>\n      <th>year</th>\n      <th>cyl</th>\n      <th>trans</th>\n      <th>drv</th>\n      <th>cty</th>\n      <th>hwy</th>\n      <th>fl</th>\n      <th>class</th>\n      <th>mileage_difference</th>\n      <th>average_mileage</th>\n    </tr>\n  </thead>\n  <tbody>\n    <tr>\n      <th>213</th>\n      <td>volkswagen</td>\n      <td>jetta</td>\n      <td>1.9</td>\n      <td>1999</td>\n      <td>4</td>\n      <td>manual(m5)</td>\n      <td>f</td>\n      <td>33</td>\n      <td>44</td>\n      <td>d</td>\n      <td>compact</td>\n      <td>11</td>\n      <td>5.5</td>\n    </tr>\n  </tbody>\n</table>\n</div>"
     },
     "metadata": {},
     "execution_count": 111
    }
   ],
   "source": [
    "# Which compact class car has the lowest highway mileage? \n",
    "\n",
    "mpg[mpg['class'] == 'compact'].sort_values(by='hwy', ascending = True).head(1)\n",
    "\n",
    "# The best?  Volkswagen Jetta\n",
    "\n",
    "mpg[mpg['class'] == 'compact'].sort_values(by='hwy', ascending = False).head(1)\n",
    "\n"
   ]
  },
  {
   "cell_type": "code",
   "execution_count": 115,
   "metadata": {},
   "outputs": [
    {
     "output_type": "execute_result",
     "data": {
      "text/plain": [
       "    manufacturer   model  displ  year  cyl       trans drv  cty  hwy fl  \\\n",
       "1           audi      a4    1.8  1999    4    auto(l5)   f   18   29  p   \n",
       "2           audi      a4    1.8  1999    4  manual(m5)   f   21   29  p   \n",
       "3           audi      a4    2.0  2008    4  manual(m6)   f   20   31  p   \n",
       "4           audi      a4    2.0  2008    4    auto(av)   f   21   30  p   \n",
       "5           audi      a4    2.8  1999    6    auto(l5)   f   16   26  p   \n",
       "..           ...     ...    ...   ...  ...         ...  ..  ...  ... ..   \n",
       "230   volkswagen  passat    2.0  2008    4    auto(s6)   f   19   28  p   \n",
       "231   volkswagen  passat    2.0  2008    4  manual(m6)   f   21   29  p   \n",
       "232   volkswagen  passat    2.8  1999    6    auto(l5)   f   16   26  p   \n",
       "233   volkswagen  passat    2.8  1999    6  manual(m5)   f   18   26  p   \n",
       "234   volkswagen  passat    3.6  2008    6    auto(s6)   f   17   26  p   \n",
       "\n",
       "       class  mileage_difference  average_mileage  \n",
       "1    compact                  11             23.5  \n",
       "2    compact                   8             25.0  \n",
       "3    compact                  11             25.5  \n",
       "4    compact                   9             25.5  \n",
       "5    compact                  10             21.0  \n",
       "..       ...                 ...              ...  \n",
       "230  midsize                   9             23.5  \n",
       "231  midsize                   8             25.0  \n",
       "232  midsize                  10             21.0  \n",
       "233  midsize                   8             22.0  \n",
       "234  midsize                   9             21.5  \n",
       "\n",
       "[234 rows x 13 columns]"
      ],
      "text/html": "<div>\n<style scoped>\n    .dataframe tbody tr th:only-of-type {\n        vertical-align: middle;\n    }\n\n    .dataframe tbody tr th {\n        vertical-align: top;\n    }\n\n    .dataframe thead th {\n        text-align: right;\n    }\n</style>\n<table border=\"1\" class=\"dataframe\">\n  <thead>\n    <tr style=\"text-align: right;\">\n      <th></th>\n      <th>manufacturer</th>\n      <th>model</th>\n      <th>displ</th>\n      <th>year</th>\n      <th>cyl</th>\n      <th>trans</th>\n      <th>drv</th>\n      <th>cty</th>\n      <th>hwy</th>\n      <th>fl</th>\n      <th>class</th>\n      <th>mileage_difference</th>\n      <th>average_mileage</th>\n    </tr>\n  </thead>\n  <tbody>\n    <tr>\n      <th>1</th>\n      <td>audi</td>\n      <td>a4</td>\n      <td>1.8</td>\n      <td>1999</td>\n      <td>4</td>\n      <td>auto(l5)</td>\n      <td>f</td>\n      <td>18</td>\n      <td>29</td>\n      <td>p</td>\n      <td>compact</td>\n      <td>11</td>\n      <td>23.5</td>\n    </tr>\n    <tr>\n      <th>2</th>\n      <td>audi</td>\n      <td>a4</td>\n      <td>1.8</td>\n      <td>1999</td>\n      <td>4</td>\n      <td>manual(m5)</td>\n      <td>f</td>\n      <td>21</td>\n      <td>29</td>\n      <td>p</td>\n      <td>compact</td>\n      <td>8</td>\n      <td>25.0</td>\n    </tr>\n    <tr>\n      <th>3</th>\n      <td>audi</td>\n      <td>a4</td>\n      <td>2.0</td>\n      <td>2008</td>\n      <td>4</td>\n      <td>manual(m6)</td>\n      <td>f</td>\n      <td>20</td>\n      <td>31</td>\n      <td>p</td>\n      <td>compact</td>\n      <td>11</td>\n      <td>25.5</td>\n    </tr>\n    <tr>\n      <th>4</th>\n      <td>audi</td>\n      <td>a4</td>\n      <td>2.0</td>\n      <td>2008</td>\n      <td>4</td>\n      <td>auto(av)</td>\n      <td>f</td>\n      <td>21</td>\n      <td>30</td>\n      <td>p</td>\n      <td>compact</td>\n      <td>9</td>\n      <td>25.5</td>\n    </tr>\n    <tr>\n      <th>5</th>\n      <td>audi</td>\n      <td>a4</td>\n      <td>2.8</td>\n      <td>1999</td>\n      <td>6</td>\n      <td>auto(l5)</td>\n      <td>f</td>\n      <td>16</td>\n      <td>26</td>\n      <td>p</td>\n      <td>compact</td>\n      <td>10</td>\n      <td>21.0</td>\n    </tr>\n    <tr>\n      <th>...</th>\n      <td>...</td>\n      <td>...</td>\n      <td>...</td>\n      <td>...</td>\n      <td>...</td>\n      <td>...</td>\n      <td>...</td>\n      <td>...</td>\n      <td>...</td>\n      <td>...</td>\n      <td>...</td>\n      <td>...</td>\n      <td>...</td>\n    </tr>\n    <tr>\n      <th>230</th>\n      <td>volkswagen</td>\n      <td>passat</td>\n      <td>2.0</td>\n      <td>2008</td>\n      <td>4</td>\n      <td>auto(s6)</td>\n      <td>f</td>\n      <td>19</td>\n      <td>28</td>\n      <td>p</td>\n      <td>midsize</td>\n      <td>9</td>\n      <td>23.5</td>\n    </tr>\n    <tr>\n      <th>231</th>\n      <td>volkswagen</td>\n      <td>passat</td>\n      <td>2.0</td>\n      <td>2008</td>\n      <td>4</td>\n      <td>manual(m6)</td>\n      <td>f</td>\n      <td>21</td>\n      <td>29</td>\n      <td>p</td>\n      <td>midsize</td>\n      <td>8</td>\n      <td>25.0</td>\n    </tr>\n    <tr>\n      <th>232</th>\n      <td>volkswagen</td>\n      <td>passat</td>\n      <td>2.8</td>\n      <td>1999</td>\n      <td>6</td>\n      <td>auto(l5)</td>\n      <td>f</td>\n      <td>16</td>\n      <td>26</td>\n      <td>p</td>\n      <td>midsize</td>\n      <td>10</td>\n      <td>21.0</td>\n    </tr>\n    <tr>\n      <th>233</th>\n      <td>volkswagen</td>\n      <td>passat</td>\n      <td>2.8</td>\n      <td>1999</td>\n      <td>6</td>\n      <td>manual(m5)</td>\n      <td>f</td>\n      <td>18</td>\n      <td>26</td>\n      <td>p</td>\n      <td>midsize</td>\n      <td>8</td>\n      <td>22.0</td>\n    </tr>\n    <tr>\n      <th>234</th>\n      <td>volkswagen</td>\n      <td>passat</td>\n      <td>3.6</td>\n      <td>2008</td>\n      <td>6</td>\n      <td>auto(s6)</td>\n      <td>f</td>\n      <td>17</td>\n      <td>26</td>\n      <td>p</td>\n      <td>midsize</td>\n      <td>9</td>\n      <td>21.5</td>\n    </tr>\n  </tbody>\n</table>\n<p>234 rows × 13 columns</p>\n</div>"
     },
     "metadata": {},
     "execution_count": 115
    }
   ],
   "source": [
    "# Create a column named average_mileage that is the mean of the city and highway mileage.\n",
    "mpg['average_mileage'] = (mpg.hwy + mpg.cty)/2\n",
    "mpg"
   ]
  },
  {
   "cell_type": "code",
   "execution_count": 119,
   "metadata": {},
   "outputs": [
    {
     "output_type": "execute_result",
     "data": {
      "text/plain": [
       "   manufacturer        model  displ  year  cyl     trans drv  cty  hwy fl  \\\n",
       "38        dodge  caravan 2wd    2.4  1999    4  auto(l3)   f   18   24  r   \n",
       "\n",
       "      class  mileage_difference  average_mileage  \n",
       "38  minivan                   6             21.0  "
      ],
      "text/html": "<div>\n<style scoped>\n    .dataframe tbody tr th:only-of-type {\n        vertical-align: middle;\n    }\n\n    .dataframe tbody tr th {\n        vertical-align: top;\n    }\n\n    .dataframe thead th {\n        text-align: right;\n    }\n</style>\n<table border=\"1\" class=\"dataframe\">\n  <thead>\n    <tr style=\"text-align: right;\">\n      <th></th>\n      <th>manufacturer</th>\n      <th>model</th>\n      <th>displ</th>\n      <th>year</th>\n      <th>cyl</th>\n      <th>trans</th>\n      <th>drv</th>\n      <th>cty</th>\n      <th>hwy</th>\n      <th>fl</th>\n      <th>class</th>\n      <th>mileage_difference</th>\n      <th>average_mileage</th>\n    </tr>\n  </thead>\n  <tbody>\n    <tr>\n      <th>38</th>\n      <td>dodge</td>\n      <td>caravan 2wd</td>\n      <td>2.4</td>\n      <td>1999</td>\n      <td>4</td>\n      <td>auto(l3)</td>\n      <td>f</td>\n      <td>18</td>\n      <td>24</td>\n      <td>r</td>\n      <td>minivan</td>\n      <td>6</td>\n      <td>21.0</td>\n    </tr>\n  </tbody>\n</table>\n</div>"
     },
     "metadata": {},
     "execution_count": 119
    }
   ],
   "source": [
    "# Which dodge car has the best average mileage? \n",
    "mpg[mpg['manufacturer'] == 'dodge'].sort_values(by=\"average_mileage\", ascending = False).head(1)"
   ]
  },
  {
   "cell_type": "code",
   "execution_count": 123,
   "metadata": {},
   "outputs": [
    {
     "output_type": "execute_result",
     "data": {
      "text/plain": [
       "   manufacturer                model  displ  year  cyl       trans drv  cty  \\\n",
       "70        dodge  ram 1500 pickup 4wd    4.7  2008    8  manual(m6)   4    9   \n",
       "66        dodge  ram 1500 pickup 4wd    4.7  2008    8    auto(l5)   4    9   \n",
       "60        dodge          durango 4wd    4.7  2008    8    auto(l5)   4    9   \n",
       "55        dodge    dakota pickup 4wd    4.7  2008    8    auto(l5)   4    9   \n",
       "\n",
       "    hwy fl   class  mileage_difference  average_mileage  \n",
       "70   12  e  pickup                   3             10.5  \n",
       "66   12  e  pickup                   3             10.5  \n",
       "60   12  e     suv                   3             10.5  \n",
       "55   12  e  pickup                   3             10.5  "
      ],
      "text/html": "<div>\n<style scoped>\n    .dataframe tbody tr th:only-of-type {\n        vertical-align: middle;\n    }\n\n    .dataframe tbody tr th {\n        vertical-align: top;\n    }\n\n    .dataframe thead th {\n        text-align: right;\n    }\n</style>\n<table border=\"1\" class=\"dataframe\">\n  <thead>\n    <tr style=\"text-align: right;\">\n      <th></th>\n      <th>manufacturer</th>\n      <th>model</th>\n      <th>displ</th>\n      <th>year</th>\n      <th>cyl</th>\n      <th>trans</th>\n      <th>drv</th>\n      <th>cty</th>\n      <th>hwy</th>\n      <th>fl</th>\n      <th>class</th>\n      <th>mileage_difference</th>\n      <th>average_mileage</th>\n    </tr>\n  </thead>\n  <tbody>\n    <tr>\n      <th>70</th>\n      <td>dodge</td>\n      <td>ram 1500 pickup 4wd</td>\n      <td>4.7</td>\n      <td>2008</td>\n      <td>8</td>\n      <td>manual(m6)</td>\n      <td>4</td>\n      <td>9</td>\n      <td>12</td>\n      <td>e</td>\n      <td>pickup</td>\n      <td>3</td>\n      <td>10.5</td>\n    </tr>\n    <tr>\n      <th>66</th>\n      <td>dodge</td>\n      <td>ram 1500 pickup 4wd</td>\n      <td>4.7</td>\n      <td>2008</td>\n      <td>8</td>\n      <td>auto(l5)</td>\n      <td>4</td>\n      <td>9</td>\n      <td>12</td>\n      <td>e</td>\n      <td>pickup</td>\n      <td>3</td>\n      <td>10.5</td>\n    </tr>\n    <tr>\n      <th>60</th>\n      <td>dodge</td>\n      <td>durango 4wd</td>\n      <td>4.7</td>\n      <td>2008</td>\n      <td>8</td>\n      <td>auto(l5)</td>\n      <td>4</td>\n      <td>9</td>\n      <td>12</td>\n      <td>e</td>\n      <td>suv</td>\n      <td>3</td>\n      <td>10.5</td>\n    </tr>\n    <tr>\n      <th>55</th>\n      <td>dodge</td>\n      <td>dakota pickup 4wd</td>\n      <td>4.7</td>\n      <td>2008</td>\n      <td>8</td>\n      <td>auto(l5)</td>\n      <td>4</td>\n      <td>9</td>\n      <td>12</td>\n      <td>e</td>\n      <td>pickup</td>\n      <td>3</td>\n      <td>10.5</td>\n    </tr>\n  </tbody>\n</table>\n</div>"
     },
     "metadata": {},
     "execution_count": 123
    }
   ],
   "source": [
    "# Which dodge car has the worst average mileage\n",
    "mpg[mpg['manufacturer'] == 'dodge'].sort_values(by=\"average_mileage\", ascending = True).head(4)"
   ]
  },
  {
   "cell_type": "code",
   "execution_count": 136,
   "metadata": {},
   "outputs": [],
   "source": [
    "# Load the Mammals dataset. Read the documentation for it, and use the data to answer these questions:\n",
    "\n",
    "Mammals = data('Mammals')\n"
   ]
  },
  {
   "cell_type": "code",
   "execution_count": 137,
   "metadata": {},
   "outputs": [
    {
     "output_type": "execute_result",
     "data": {
      "text/plain": [
       "(107, 4)"
      ]
     },
     "metadata": {},
     "execution_count": 137
    }
   ],
   "source": [
    "# How many rows and columns are there?  there 107 rows and 4 columns\n",
    "Mammals.shape"
   ]
  },
  {
   "cell_type": "code",
   "execution_count": 138,
   "metadata": {},
   "outputs": [
    {
     "output_type": "execute_result",
     "data": {
      "text/plain": [
       "weight      float64\n",
       "speed       float64\n",
       "hoppers        bool\n",
       "specials       bool\n",
       "dtype: object"
      ]
     },
     "metadata": {},
     "execution_count": 138
    }
   ],
   "source": [
    "# What are the data types?\n",
    "Mammals.dtypes"
   ]
  },
  {
   "cell_type": "code",
   "execution_count": 139,
   "metadata": {},
   "outputs": [
    {
     "output_type": "execute_result",
     "data": {
      "text/plain": [
       "(<bound method DataFrame.info of        weight  speed  hoppers  specials\n",
       " 1    6000.000   35.0    False     False\n",
       " 2    4000.000   26.0    False     False\n",
       " 3    3000.000   25.0    False     False\n",
       " 4    1400.000   45.0    False     False\n",
       " 5     400.000   70.0    False     False\n",
       " 6     350.000   70.0    False     False\n",
       " 7     300.000   64.0    False     False\n",
       " 8     260.000   70.0    False     False\n",
       " 9     250.000   40.0    False     False\n",
       " 10   3800.000   25.0    False      True\n",
       " 11   1000.000   60.0    False     False\n",
       " 12    900.000   70.0    False     False\n",
       " 13    900.000   56.0    False     False\n",
       " 14    800.000   29.0    False     False\n",
       " 15    750.000   57.0    False     False\n",
       " 16    500.000   32.0    False     False\n",
       " 17    450.000   56.0    False     False\n",
       " 18    300.000   72.0    False     False\n",
       " 19    300.000   90.0    False     False\n",
       " 20    250.000   80.0    False     False\n",
       " 21    250.000   56.0    False     False\n",
       " 22    170.000   80.0    False     False\n",
       " 23    150.000   48.0    False     False\n",
       " 24    130.000   70.0    False     False\n",
       " 25    120.000   80.0    False     False\n",
       " 26    120.000   61.0    False     False\n",
       " 27    110.000   33.0    False     False\n",
       " 28    100.000   64.0    False     False\n",
       " 29     85.000   55.0    False     False\n",
       " 30     80.000   65.0    False     False\n",
       " 31     72.000   56.0    False     False\n",
       " 32     70.000   45.0    False     False\n",
       " 33     65.000   60.0    False     False\n",
       " 34     62.000   81.0    False     False\n",
       " 35     50.000  100.0    False     False\n",
       " 36     50.000   60.0    False     False\n",
       " 37     50.000   40.0    False     False\n",
       " 38     50.000   47.0    False     False\n",
       " 39     37.000  105.0    False     False\n",
       " 40     35.000   80.0    False     False\n",
       " 41     34.000   97.0    False     False\n",
       " 42     30.000   97.0    False     False\n",
       " 43     30.000   80.0    False     False\n",
       " 44     30.000   45.0    False     False\n",
       " 45     20.000   81.0    False     False\n",
       " 46    400.000   40.0    False     False\n",
       " 47    300.000   48.0    False     False\n",
       " 48    230.000   56.0    False     False\n",
       " 49    150.000   59.0    False     False\n",
       " 50    135.000   48.0    False     False\n",
       " 51     65.000   65.0    False     False\n",
       " 52     60.000   60.0    False     False\n",
       " 53     55.000  110.0    False     False\n",
       " 54     45.000   50.0    False     False\n",
       " 55     40.000   64.0    False     False\n",
       " 56     25.000   67.0    False     False\n",
       " 57     20.000   70.0    False     False\n",
       " 58     16.000   65.0    False     False\n",
       " 59     12.000   24.0    False      True\n",
       " 60     11.000   30.0    False      True\n",
       " 61     10.000   56.0    False     False\n",
       " 62      7.000   60.0    False     False\n",
       " 63      6.000   72.0    False     False\n",
       " 64      5.000   64.0    False     False\n",
       " 65      5.000   27.0    False      True\n",
       " 66      3.000   16.0    False      True\n",
       " 67    127.000   32.0    False     False\n",
       " 68     70.000   40.0    False      True\n",
       " 69     13.000   37.0    False      True\n",
       " 70      9.000    3.2    False      True\n",
       " 71      4.000   16.0    False     False\n",
       " 72      0.600   36.0    False     False\n",
       " 73      0.600   20.0    False     False\n",
       " 74      0.550   27.0    False     False\n",
       " 75      0.500   18.0    False     False\n",
       " 76      0.400   20.0    False     False\n",
       " 77      0.300   13.0    False     False\n",
       " 78      0.250    9.7    False     False\n",
       " 79      0.220   15.0    False     False\n",
       " 80      0.110    9.0    False     False\n",
       " 81      0.100   17.0    False     False\n",
       " 82      0.056   21.0     True     False\n",
       " 83      0.050   11.0    False     False\n",
       " 84      0.045   16.0    False     False\n",
       " 85      0.035   32.0     True     False\n",
       " 86      0.035   14.0     True     False\n",
       " 87      0.030    6.8    False     False\n",
       " 88      0.030    9.1    False     False\n",
       " 89      0.025   11.0    False     False\n",
       " 90      0.025    8.6    False     False\n",
       " 91      0.018    8.9    False     False\n",
       " 92      0.016   13.0    False     False\n",
       " 93      0.100    4.0    False     False\n",
       " 94      0.100    2.4    False     False\n",
       " 95      0.016    3.6    False     False\n",
       " 96      4.600   64.0     True     False\n",
       " 97      4.400   72.0     True     False\n",
       " 98      4.000   72.0     True     False\n",
       " 99      3.500   56.0     True     False\n",
       " 100     2.000   64.0     True     False\n",
       " 101     1.900   56.0     True     False\n",
       " 102     1.500   50.0     True     False\n",
       " 103     1.500   40.0     True     False\n",
       " 104    50.000   65.0    False     False\n",
       " 105     5.000    7.4    False      True\n",
       " 106     0.024   13.0    False     False\n",
       " 107     4.000    1.6    False      True>,\n",
       " <bound method NDFrame.describe of        weight  speed  hoppers  specials\n",
       " 1    6000.000   35.0    False     False\n",
       " 2    4000.000   26.0    False     False\n",
       " 3    3000.000   25.0    False     False\n",
       " 4    1400.000   45.0    False     False\n",
       " 5     400.000   70.0    False     False\n",
       " 6     350.000   70.0    False     False\n",
       " 7     300.000   64.0    False     False\n",
       " 8     260.000   70.0    False     False\n",
       " 9     250.000   40.0    False     False\n",
       " 10   3800.000   25.0    False      True\n",
       " 11   1000.000   60.0    False     False\n",
       " 12    900.000   70.0    False     False\n",
       " 13    900.000   56.0    False     False\n",
       " 14    800.000   29.0    False     False\n",
       " 15    750.000   57.0    False     False\n",
       " 16    500.000   32.0    False     False\n",
       " 17    450.000   56.0    False     False\n",
       " 18    300.000   72.0    False     False\n",
       " 19    300.000   90.0    False     False\n",
       " 20    250.000   80.0    False     False\n",
       " 21    250.000   56.0    False     False\n",
       " 22    170.000   80.0    False     False\n",
       " 23    150.000   48.0    False     False\n",
       " 24    130.000   70.0    False     False\n",
       " 25    120.000   80.0    False     False\n",
       " 26    120.000   61.0    False     False\n",
       " 27    110.000   33.0    False     False\n",
       " 28    100.000   64.0    False     False\n",
       " 29     85.000   55.0    False     False\n",
       " 30     80.000   65.0    False     False\n",
       " 31     72.000   56.0    False     False\n",
       " 32     70.000   45.0    False     False\n",
       " 33     65.000   60.0    False     False\n",
       " 34     62.000   81.0    False     False\n",
       " 35     50.000  100.0    False     False\n",
       " 36     50.000   60.0    False     False\n",
       " 37     50.000   40.0    False     False\n",
       " 38     50.000   47.0    False     False\n",
       " 39     37.000  105.0    False     False\n",
       " 40     35.000   80.0    False     False\n",
       " 41     34.000   97.0    False     False\n",
       " 42     30.000   97.0    False     False\n",
       " 43     30.000   80.0    False     False\n",
       " 44     30.000   45.0    False     False\n",
       " 45     20.000   81.0    False     False\n",
       " 46    400.000   40.0    False     False\n",
       " 47    300.000   48.0    False     False\n",
       " 48    230.000   56.0    False     False\n",
       " 49    150.000   59.0    False     False\n",
       " 50    135.000   48.0    False     False\n",
       " 51     65.000   65.0    False     False\n",
       " 52     60.000   60.0    False     False\n",
       " 53     55.000  110.0    False     False\n",
       " 54     45.000   50.0    False     False\n",
       " 55     40.000   64.0    False     False\n",
       " 56     25.000   67.0    False     False\n",
       " 57     20.000   70.0    False     False\n",
       " 58     16.000   65.0    False     False\n",
       " 59     12.000   24.0    False      True\n",
       " 60     11.000   30.0    False      True\n",
       " 61     10.000   56.0    False     False\n",
       " 62      7.000   60.0    False     False\n",
       " 63      6.000   72.0    False     False\n",
       " 64      5.000   64.0    False     False\n",
       " 65      5.000   27.0    False      True\n",
       " 66      3.000   16.0    False      True\n",
       " 67    127.000   32.0    False     False\n",
       " 68     70.000   40.0    False      True\n",
       " 69     13.000   37.0    False      True\n",
       " 70      9.000    3.2    False      True\n",
       " 71      4.000   16.0    False     False\n",
       " 72      0.600   36.0    False     False\n",
       " 73      0.600   20.0    False     False\n",
       " 74      0.550   27.0    False     False\n",
       " 75      0.500   18.0    False     False\n",
       " 76      0.400   20.0    False     False\n",
       " 77      0.300   13.0    False     False\n",
       " 78      0.250    9.7    False     False\n",
       " 79      0.220   15.0    False     False\n",
       " 80      0.110    9.0    False     False\n",
       " 81      0.100   17.0    False     False\n",
       " 82      0.056   21.0     True     False\n",
       " 83      0.050   11.0    False     False\n",
       " 84      0.045   16.0    False     False\n",
       " 85      0.035   32.0     True     False\n",
       " 86      0.035   14.0     True     False\n",
       " 87      0.030    6.8    False     False\n",
       " 88      0.030    9.1    False     False\n",
       " 89      0.025   11.0    False     False\n",
       " 90      0.025    8.6    False     False\n",
       " 91      0.018    8.9    False     False\n",
       " 92      0.016   13.0    False     False\n",
       " 93      0.100    4.0    False     False\n",
       " 94      0.100    2.4    False     False\n",
       " 95      0.016    3.6    False     False\n",
       " 96      4.600   64.0     True     False\n",
       " 97      4.400   72.0     True     False\n",
       " 98      4.000   72.0     True     False\n",
       " 99      3.500   56.0     True     False\n",
       " 100     2.000   64.0     True     False\n",
       " 101     1.900   56.0     True     False\n",
       " 102     1.500   50.0     True     False\n",
       " 103     1.500   40.0     True     False\n",
       " 104    50.000   65.0    False     False\n",
       " 105     5.000    7.4    False      True\n",
       " 106     0.024   13.0    False     False\n",
       " 107     4.000    1.6    False      True>)"
      ]
     },
     "metadata": {},
     "execution_count": 139
    }
   ],
   "source": [
    "# Summarize the dataframe with .info and .describe.  \n",
    "\n",
    "Mammals.info, Mammals.describe\n"
   ]
  },
  {
   "cell_type": "code",
   "execution_count": 152,
   "metadata": {},
   "outputs": [
    {
     "output_type": "execute_result",
     "data": {
      "text/plain": [
       "    weight  speed  hoppers  specials\n",
       "53    55.0  110.0    False     False"
      ],
      "text/html": "<div>\n<style scoped>\n    .dataframe tbody tr th:only-of-type {\n        vertical-align: middle;\n    }\n\n    .dataframe tbody tr th {\n        vertical-align: top;\n    }\n\n    .dataframe thead th {\n        text-align: right;\n    }\n</style>\n<table border=\"1\" class=\"dataframe\">\n  <thead>\n    <tr style=\"text-align: right;\">\n      <th></th>\n      <th>weight</th>\n      <th>speed</th>\n      <th>hoppers</th>\n      <th>specials</th>\n    </tr>\n  </thead>\n  <tbody>\n    <tr>\n      <th>53</th>\n      <td>55.0</td>\n      <td>110.0</td>\n      <td>False</td>\n      <td>False</td>\n    </tr>\n  </tbody>\n</table>\n</div>"
     },
     "metadata": {},
     "execution_count": 152
    }
   ],
   "source": [
    "# What is the the weight of the fastest animal?\n",
    "\n",
    "Mammals[Mammals.speed == Mammals.speed.max()]"
   ]
  },
  {
   "cell_type": "code",
   "execution_count": 206,
   "metadata": {},
   "outputs": [
    {
     "output_type": "stream",
     "name": "stdout",
     "text": [
      "0.09345794392523364\n"
     ]
    }
   ],
   "source": [
    "# What is the overal percentage of specials?  9.35% \n",
    "total_true = Mammals['specials'][Mammals['specials']==True].count()\n",
    "total_specials = Mammals['specials'].count()\n",
    "\n",
    "percent_specials = total_true / total_specials\n",
    "\n",
    "print(percent_specials)\n"
   ]
  },
  {
   "cell_type": "code",
   "execution_count": null,
   "metadata": {},
   "outputs": [],
   "source": []
  }
 ]
}